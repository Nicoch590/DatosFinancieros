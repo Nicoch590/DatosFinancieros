{
 "cells": [
  {
   "cell_type": "code",
   "execution_count": 1,
   "id": "d486252b",
   "metadata": {},
   "outputs": [],
   "source": [
    "#import missingno as msno\n",
    "#msno.bar(df,figsize=(12, 6), fontsize=12, color='steelblue')"
   ]
  },
  {
   "cell_type": "code",
   "execution_count": 2,
   "id": "1e2466ab",
   "metadata": {},
   "outputs": [],
   "source": [
    "import io\n",
    "import matplotlib\n",
    "import matplotlib.pyplot as plt\n",
    "import numpy\n",
    "import pandas as pd\n",
    "import seaborn\n",
    "import scipy\n",
    "\n",
    "seaborn.set_context('talk')"
   ]
  },
  {
   "cell_type": "code",
   "execution_count": 3,
   "id": "44bdc0a9",
   "metadata": {},
   "outputs": [
    {
     "data": {
      "text/html": [
       "<div>\n",
       "<style scoped>\n",
       "    .dataframe tbody tr th:only-of-type {\n",
       "        vertical-align: middle;\n",
       "    }\n",
       "\n",
       "    .dataframe tbody tr th {\n",
       "        vertical-align: top;\n",
       "    }\n",
       "\n",
       "    .dataframe thead th {\n",
       "        text-align: right;\n",
       "    }\n",
       "</style>\n",
       "<table border=\"1\" class=\"dataframe\">\n",
       "  <thead>\n",
       "    <tr style=\"text-align: right;\">\n",
       "      <th></th>\n",
       "      <th>Ticker</th>\n",
       "      <th>Revenue</th>\n",
       "      <th>Revenue_Growth</th>\n",
       "      <th>Gross_Profit</th>\n",
       "      <th>Net_Income</th>\n",
       "      <th>Dividend_per_Share</th>\n",
       "      <th>EBITDA</th>\n",
       "      <th>priceSalesRatio</th>\n",
       "      <th>dividendYield</th>\n",
       "      <th>enterpriseValueMultiple</th>\n",
       "      <th>...</th>\n",
       "      <th>Net_Profit_Margin</th>\n",
       "      <th>Sector</th>\n",
       "      <th>2015_PRICE_VAR_[%]</th>\n",
       "      <th>Class</th>\n",
       "      <th>year</th>\n",
       "      <th>2016_PRICE_VAR_[%]</th>\n",
       "      <th>2017_PRICE_VAR_[%]</th>\n",
       "      <th>2018_PRICE_VAR_[%]</th>\n",
       "      <th>2019_PRICE_VAR_[%]</th>\n",
       "      <th>AnualPriceVariation</th>\n",
       "    </tr>\n",
       "  </thead>\n",
       "  <tbody>\n",
       "    <tr>\n",
       "      <th>0</th>\n",
       "      <td>PG</td>\n",
       "      <td>7.440100e+10</td>\n",
       "      <td>-0.0713</td>\n",
       "      <td>3.537100e+10</td>\n",
       "      <td>1.164300e+10</td>\n",
       "      <td>2.448</td>\n",
       "      <td>1.834400e+10</td>\n",
       "      <td>2.434644</td>\n",
       "      <td>0.038153</td>\n",
       "      <td>11.421116</td>\n",
       "      <td>...</td>\n",
       "      <td>0.1565</td>\n",
       "      <td>Consumer Defensive</td>\n",
       "      <td>-9.323276</td>\n",
       "      <td>0</td>\n",
       "      <td>2014</td>\n",
       "      <td>NaN</td>\n",
       "      <td>NaN</td>\n",
       "      <td>NaN</td>\n",
       "      <td>NaN</td>\n",
       "      <td>-9.323276</td>\n",
       "    </tr>\n",
       "    <tr>\n",
       "      <th>1</th>\n",
       "      <td>VIPS</td>\n",
       "      <td>3.734148e+09</td>\n",
       "      <td>1.1737</td>\n",
       "      <td>9.285226e+08</td>\n",
       "      <td>1.358227e+08</td>\n",
       "      <td>0.000</td>\n",
       "      <td>2.456858e+08</td>\n",
       "      <td>0.095727</td>\n",
       "      <td>-0.000000</td>\n",
       "      <td>7.136538</td>\n",
       "      <td>...</td>\n",
       "      <td>0.0364</td>\n",
       "      <td>Consumer Defensive</td>\n",
       "      <td>-25.512193</td>\n",
       "      <td>0</td>\n",
       "      <td>2014</td>\n",
       "      <td>NaN</td>\n",
       "      <td>NaN</td>\n",
       "      <td>NaN</td>\n",
       "      <td>NaN</td>\n",
       "      <td>-25.512193</td>\n",
       "    </tr>\n",
       "    <tr>\n",
       "      <th>2</th>\n",
       "      <td>KR</td>\n",
       "      <td>9.837500e+10</td>\n",
       "      <td>0.0182</td>\n",
       "      <td>2.023700e+10</td>\n",
       "      <td>1.519000e+09</td>\n",
       "      <td>0.307</td>\n",
       "      <td>4.416000e+09</td>\n",
       "      <td>0.000000</td>\n",
       "      <td>NaN</td>\n",
       "      <td>2.276721</td>\n",
       "      <td>...</td>\n",
       "      <td>0.0154</td>\n",
       "      <td>Consumer Defensive</td>\n",
       "      <td>33.118297</td>\n",
       "      <td>1</td>\n",
       "      <td>2014</td>\n",
       "      <td>NaN</td>\n",
       "      <td>NaN</td>\n",
       "      <td>NaN</td>\n",
       "      <td>NaN</td>\n",
       "      <td>33.118297</td>\n",
       "    </tr>\n",
       "    <tr>\n",
       "      <th>3</th>\n",
       "      <td>RAD</td>\n",
       "      <td>2.552641e+10</td>\n",
       "      <td>0.0053</td>\n",
       "      <td>7.323734e+09</td>\n",
       "      <td>2.494140e+08</td>\n",
       "      <td>0.000</td>\n",
       "      <td>1.078550e+09</td>\n",
       "      <td>0.000000</td>\n",
       "      <td>NaN</td>\n",
       "      <td>5.428005</td>\n",
       "      <td>...</td>\n",
       "      <td>0.0098</td>\n",
       "      <td>Consumer Defensive</td>\n",
       "      <td>2.752291</td>\n",
       "      <td>1</td>\n",
       "      <td>2014</td>\n",
       "      <td>NaN</td>\n",
       "      <td>NaN</td>\n",
       "      <td>NaN</td>\n",
       "      <td>NaN</td>\n",
       "      <td>2.752291</td>\n",
       "    </tr>\n",
       "    <tr>\n",
       "      <th>4</th>\n",
       "      <td>GIS</td>\n",
       "      <td>1.790960e+10</td>\n",
       "      <td>0.0076</td>\n",
       "      <td>6.369800e+09</td>\n",
       "      <td>1.824400e+09</td>\n",
       "      <td>1.550</td>\n",
       "      <td>3.595500e+09</td>\n",
       "      <td>1.553911</td>\n",
       "      <td>0.035332</td>\n",
       "      <td>9.767966</td>\n",
       "      <td>...</td>\n",
       "      <td>0.1019</td>\n",
       "      <td>Consumer Defensive</td>\n",
       "      <td>12.897715</td>\n",
       "      <td>1</td>\n",
       "      <td>2014</td>\n",
       "      <td>NaN</td>\n",
       "      <td>NaN</td>\n",
       "      <td>NaN</td>\n",
       "      <td>NaN</td>\n",
       "      <td>12.897715</td>\n",
       "    </tr>\n",
       "  </tbody>\n",
       "</table>\n",
       "<p>5 rows × 36 columns</p>\n",
       "</div>"
      ],
      "text/plain": [
       "  Ticker       Revenue  Revenue_Growth  Gross_Profit    Net_Income  \\\n",
       "0     PG  7.440100e+10         -0.0713  3.537100e+10  1.164300e+10   \n",
       "1   VIPS  3.734148e+09          1.1737  9.285226e+08  1.358227e+08   \n",
       "2     KR  9.837500e+10          0.0182  2.023700e+10  1.519000e+09   \n",
       "3    RAD  2.552641e+10          0.0053  7.323734e+09  2.494140e+08   \n",
       "4    GIS  1.790960e+10          0.0076  6.369800e+09  1.824400e+09   \n",
       "\n",
       "   Dividend_per_Share        EBITDA  priceSalesRatio  dividendYield  \\\n",
       "0               2.448  1.834400e+10         2.434644       0.038153   \n",
       "1               0.000  2.456858e+08         0.095727      -0.000000   \n",
       "2               0.307  4.416000e+09         0.000000            NaN   \n",
       "3               0.000  1.078550e+09         0.000000            NaN   \n",
       "4               1.550  3.595500e+09         1.553911       0.035332   \n",
       "\n",
       "   enterpriseValueMultiple  ...  Net_Profit_Margin              Sector  \\\n",
       "0                11.421116  ...             0.1565  Consumer Defensive   \n",
       "1                 7.136538  ...             0.0364  Consumer Defensive   \n",
       "2                 2.276721  ...             0.0154  Consumer Defensive   \n",
       "3                 5.428005  ...             0.0098  Consumer Defensive   \n",
       "4                 9.767966  ...             0.1019  Consumer Defensive   \n",
       "\n",
       "   2015_PRICE_VAR_[%]  Class  year  2016_PRICE_VAR_[%]  2017_PRICE_VAR_[%]  \\\n",
       "0           -9.323276      0  2014                 NaN                 NaN   \n",
       "1          -25.512193      0  2014                 NaN                 NaN   \n",
       "2           33.118297      1  2014                 NaN                 NaN   \n",
       "3            2.752291      1  2014                 NaN                 NaN   \n",
       "4           12.897715      1  2014                 NaN                 NaN   \n",
       "\n",
       "   2018_PRICE_VAR_[%]  2019_PRICE_VAR_[%]  AnualPriceVariation  \n",
       "0                 NaN                 NaN            -9.323276  \n",
       "1                 NaN                 NaN           -25.512193  \n",
       "2                 NaN                 NaN            33.118297  \n",
       "3                 NaN                 NaN             2.752291  \n",
       "4                 NaN                 NaN            12.897715  \n",
       "\n",
       "[5 rows x 36 columns]"
      ]
     },
     "execution_count": 3,
     "metadata": {},
     "output_type": "execute_result"
    }
   ],
   "source": [
    "df = pd.read_csv('https://raw.githubusercontent.com/Nicoch590/DatosFinancieros/main/datos_financieros_reducidos.csv',index_col=[0])\n",
    "df.head()"
   ]
  },
  {
   "cell_type": "code",
   "execution_count": 4,
   "id": "b4d2a023",
   "metadata": {},
   "outputs": [],
   "source": [
    "seleccion_indicadores=['Revenue_Growth',\n",
    "                          'Gross_Profit',\n",
    "                          'priceEarningsRatio',\n",
    "                          'priceToFreeCashFlowsRatio',\n",
    "                          'EPS',\n",
    "                          'Gross_Margin',\n",
    "                          'EBITDA_Margin',                          \n",
    "                          'priceToSalesRatio',\n",
    "                          'Net_Profit_Margin']"
   ]
  },
  {
   "cell_type": "code",
   "execution_count": 5,
   "id": "a2dd984b",
   "metadata": {},
   "outputs": [],
   "source": [
    "# Eliminación de valores atípicos\n",
    "def clean_outliers(dataset, column_name):\n",
    "    \"\"\"Returns dataset removing the outlier rows from column @column_name.\"\"\"\n",
    "    interesting_col = dataset[column_name]\n",
    "    # Here we can remove the outliers from both ends, or even add more restrictions.\n",
    "    mask_outlier = ((interesting_col <= (interesting_col.quantile(.98))) & (interesting_col >= (interesting_col.quantile(.01))))\n",
    "        #numpy.abs(interesting_col - interesting_col.mean()) <= (0.02 * interesting_col.std()))\n",
    "    return dataset[mask_outlier]\n"
   ]
  },
  {
   "cell_type": "markdown",
   "id": "a467f860",
   "metadata": {},
   "source": [
    "La funcion Clean_outliers, filtra los valores situados por encima del perncentil 98% y por debajo del percentil 1% de la variable seleccionada."
   ]
  },
  {
   "cell_type": "code",
   "execution_count": null,
   "id": "bc077437",
   "metadata": {},
   "outputs": [],
   "source": []
  },
  {
   "cell_type": "markdown",
   "id": "89540ab3",
   "metadata": {},
   "source": [
    "## Indicadores Seleccionados"
   ]
  },
  {
   "cell_type": "markdown",
   "id": "930c52d4",
   "metadata": {},
   "source": [
    "### Revenue Growth: \n",
    "es la variacion de las ventas de la compania en un periodo determinado.\n",
    "\n",
    "Revenue Growth = (revenue periodo actual-revenue periodo anterior)/revenue periodo anterior."
   ]
  },
  {
   "cell_type": "code",
   "execution_count": 6,
   "id": "6531b04e",
   "metadata": {},
   "outputs": [
    {
     "data": {
      "image/png": "[encoded data removed]",
      "text/plain": [
       "<Figure size 576x288 with 2 Axes>"
      ]
     },
     "metadata": {
      "needs_background": "light"
     },
     "output_type": "display_data"
    }
   ],
   "source": [
    "fig, axes = plt.subplots(ncols=2, figsize=(8,4))\n",
    "g = seaborn.histplot(x= df['Revenue_Growth'], bins= 50, ax= axes[0])\n",
    "g = seaborn.boxplot(x= df['Revenue_Growth'], ax= axes[1])\n"
   ]
  },
  {
   "cell_type": "markdown",
   "id": "775befc9",
   "metadata": {},
   "source": [
    "Pueden verse algunos valores extremos para este indicador, utilizamos la funcion clean_outliers"
   ]
  },
  {
   "cell_type": "code",
   "execution_count": 7,
   "id": "eca28a37",
   "metadata": {},
   "outputs": [],
   "source": [
    "df_1=df.copy()"
   ]
  },
  {
   "cell_type": "code",
   "execution_count": 8,
   "id": "2d8080cf",
   "metadata": {},
   "outputs": [],
   "source": [
    "df_2=clean_outliers(df_1,seleccion_indicadores[0])"
   ]
  },
  {
   "cell_type": "code",
   "execution_count": null,
   "id": "077032cf",
   "metadata": {},
   "outputs": [],
   "source": [
    "fig, axes = plt.subplots(ncols=2, figsize=(8,6))\n",
    "g = seaborn.histplot(x= df_1['Revenue_Growth'].dropna(), ax= axes[0])\n",
    "g = seaborn.boxplot(x= df_1['Revenue_Growth'], ax= axes[1])"
   ]
  },
  {
   "cell_type": "code",
   "execution_count": null,
   "id": "cf6fece0",
   "metadata": {},
   "outputs": [],
   "source": [
    "df_1[seleccion_indicadores[0]].describe()"
   ]
  },
  {
   "cell_type": "code",
   "execution_count": null,
   "id": "224e149b",
   "metadata": {},
   "outputs": [],
   "source": []
  },
  {
   "cell_type": "markdown",
   "id": "a61a623f",
   "metadata": {},
   "source": [
    "### Gross Profit \n",
    "(Beneficio Bruto)\n",
    "Es el beneficio de la empresa luego de deducir los costos asociados al producto o servicio.\n",
    "\n",
    "GP= Revenue - COGS\n",
    "\n",
    "COGS: cost of goods sold, incluye solo los costos variables y no los costos fijos.\n",
    "\n",
    "Evalua la eficiencia de la empresa para producir bienes y servicios.\n"
   ]
  },
  {
   "cell_type": "code",
   "execution_count": null,
   "id": "f506fc9c",
   "metadata": {},
   "outputs": [],
   "source": [
    "fig, axes = plt.subplots(ncols=2, figsize=(8,4))\n",
    "g = seaborn.histplot(x= df[seleccion_indicadores[1]], bins= 50, ax= axes[0])\n",
    "g = seaborn.boxplot(x= df[seleccion_indicadores[1]], ax= axes[1])"
   ]
  },
  {
   "cell_type": "markdown",
   "id": "d60c0204",
   "metadata": {},
   "source": [
    "Aplicamos la funcion Clean_Outliers"
   ]
  },
  {
   "cell_type": "code",
   "execution_count": null,
   "id": "33a17abf",
   "metadata": {},
   "outputs": [],
   "source": [
    "df_1=clean_outliers(df_1,seleccion_indicadores[1])"
   ]
  },
  {
   "cell_type": "code",
   "execution_count": null,
   "id": "77a88f77",
   "metadata": {},
   "outputs": [],
   "source": [
    "fig, axes = plt.subplots(ncols=2, figsize=(12,10))\n",
    "g = seaborn.histplot(x= df_1[seleccion_indicadores[1]].dropna(), ax= axes[0])\n",
    "g = seaborn.boxplot(x= df_1[seleccion_indicadores[1]], ax= axes[1])"
   ]
  },
  {
   "cell_type": "code",
   "execution_count": null,
   "id": "310ac1ee",
   "metadata": {},
   "outputs": [],
   "source": [
    "df_1[seleccion_indicadores[1]].describe()"
   ]
  },
  {
   "cell_type": "code",
   "execution_count": null,
   "id": "245798ae",
   "metadata": {},
   "outputs": [],
   "source": [
    "#df_1[(df_1[seleccion_indicadores[1]] >= -2.5e-6)&(df_1[seleccion_indicadores[1]] <= 2.5e6)]"
   ]
  },
  {
   "cell_type": "markdown",
   "id": "7653ffdc",
   "metadata": {},
   "source": [
    "plt.figure(figsize=(15,6))\n",
    "seaborn.barplot(data=df_1[[seleccion_indicadores[1],\n",
    "                           'Sector']],\n",
    "                y=df_1[seleccion_indicadores[1]],\n",
    "                x=df_1['Sector'])\n",
    "plt.xticks(rotation=30)"
   ]
  },
  {
   "cell_type": "markdown",
   "id": "a45784c2",
   "metadata": {},
   "source": [
    "### Price to Earnings Ratio"
   ]
  },
  {
   "cell_type": "markdown",
   "id": "e1691086",
   "metadata": {},
   "source": [
    "The price-earnings ratio (P/E ratio) relates a company's share price to its earnings per share.\n",
    "A high P/E ratio could mean that a company's stock is over-valued, or else that investors are expecting high growth rates in the future.\n",
    "Companies that have no earnings or that are losing money do not have a P/E ratio since there is nothing to put in the denominator.\n",
    "Two kinds of P/E ratios - forward and trailing P/E - are used in practice.\n",
    "P/E Ratio= Market value per share /Earnings per share"
   ]
  },
  {
   "cell_type": "code",
   "execution_count": null,
   "id": "727a036d",
   "metadata": {},
   "outputs": [],
   "source": [
    "fig, axes = plt.subplots(ncols=2, figsize=(8,4))\n",
    "g = seaborn.histplot(x= df[seleccion_indicadores[2]], bins= 50, ax= axes[0])\n",
    "g = seaborn.boxplot(x= df[seleccion_indicadores[2]], ax= axes[1])"
   ]
  },
  {
   "cell_type": "code",
   "execution_count": null,
   "id": "7af4a3e2",
   "metadata": {},
   "outputs": [],
   "source": [
    "df_1=clean_outliers(df_1,seleccion_indicadores[2])"
   ]
  },
  {
   "cell_type": "code",
   "execution_count": null,
   "id": "7f555404",
   "metadata": {},
   "outputs": [],
   "source": [
    "fig, axes = plt.subplots(ncols=2, figsize=(8,4))\n",
    "g = seaborn.histplot(x= df_1[seleccion_indicadores[2]], ax= axes[0])\n",
    "g = seaborn.boxplot(x= df_1[seleccion_indicadores[2]], ax= axes[1])"
   ]
  },
  {
   "cell_type": "code",
   "execution_count": null,
   "id": "b212ae52",
   "metadata": {},
   "outputs": [],
   "source": [
    "df_1[seleccion_indicadores[2]].describe()"
   ]
  },
  {
   "cell_type": "code",
   "execution_count": null,
   "id": "cafae5a8",
   "metadata": {},
   "outputs": [],
   "source": []
  }
 ],
 "metadata": {
  "kernelspec": {
   "display_name": "Python [conda env:.conda-diplodatos-ayvd] *",
   "language": "python",
   "name": "conda-env-.conda-diplodatos-ayvd-py"
  },
  "language_info": {
   "codemirror_mode": {
    "name": "ipython",
    "version": 3
   },
   "file_extension": ".py",
   "mimetype": "text/x-python",
   "name": "python",
   "nbconvert_exporter": "python",
   "pygments_lexer": "ipython3",
   "version": "3.6.13"
  }
 },
 "nbformat": 4,
 "nbformat_minor": 5
}
