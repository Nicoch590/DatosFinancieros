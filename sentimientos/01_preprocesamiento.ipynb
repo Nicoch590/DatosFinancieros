{
 "cells": [
  {
   "cell_type": "markdown",
   "metadata": {
    "id": "kgMEw-qD4X0-"
   },
   "source": [
    "# Trabajo de Mentoria - DiploDatos\n",
    "\n",
    "**Grupo A**\n",
    "    \n",
    "Integrantes: \n",
    "    <li> Bruno Garcia\n",
    "    <li> Nicolas Chiapello\n",
    "    <li> Martin Peñas\n",
    "    <li> Pame Pairo"
   ]
  },
  {
   "cell_type": "code",
   "execution_count": 29,
   "metadata": {
    "id": "inTdJHX3VkPd"
   },
   "outputs": [],
   "source": [
    "import pandas as pd\n",
    "import matplotlib.pyplot as plt\n",
    "import seaborn as sns\n",
    "import numpy as np \n",
    "import missingno as msno\n",
    "\n",
    "plt.rcParams['font.family'] = 'Tahoma'\n",
    "sns.set_context('talk')"
   ]
  },
  {
   "cell_type": "code",
   "execution_count": null,
   "metadata": {
    "colab": {
     "base_uri": "https://localhost:8080/"
    },
    "id": "2bvkDkz7AHRA",
    "outputId": "7b0a03cc-1de3-4785-8f5a-8a0f77fca675"
   },
   "outputs": [
    {
     "name": "stdout",
     "output_type": "stream",
     "text": [
      "Drive already mounted at /content/drive; to attempt to forcibly remount, call drive.mount(\"/content/drive\", force_remount=True).\n"
     ]
    }
   ],
   "source": [
    "from google.colab import drive\n",
    "drive.mount('/content/drive')"
   ]
  },
  {
   "cell_type": "code",
   "execution_count": 2,
   "metadata": {
    "id": "c2Kl7ykrIiiI"
   },
   "outputs": [],
   "source": [
    "#Bruno:\n",
    "df_news= pd.read_csv(\"sentPositiveall-data.csv\", names=[\"feeling\", \"news\"])"
   ]
  },
  {
   "cell_type": "code",
   "execution_count": 3,
   "metadata": {
    "colab": {
     "base_uri": "https://localhost:8080/",
     "height": 359
    },
    "id": "vhs1bARROOXL",
    "outputId": "f1202d93-a5ca-4944-ac34-e5eb195560ee"
   },
   "outputs": [
    {
     "data": {
      "text/html": [
       "<div>\n",
       "<style scoped>\n",
       "    .dataframe tbody tr th:only-of-type {\n",
       "        vertical-align: middle;\n",
       "    }\n",
       "\n",
       "    .dataframe tbody tr th {\n",
       "        vertical-align: top;\n",
       "    }\n",
       "\n",
       "    .dataframe thead th {\n",
       "        text-align: right;\n",
       "    }\n",
       "</style>\n",
       "<table border=\"1\" class=\"dataframe\">\n",
       "  <thead>\n",
       "    <tr style=\"text-align: right;\">\n",
       "      <th></th>\n",
       "      <th>feeling</th>\n",
       "      <th>news</th>\n",
       "    </tr>\n",
       "  </thead>\n",
       "  <tbody>\n",
       "    <tr>\n",
       "      <th>0</th>\n",
       "      <td>neutral</td>\n",
       "      <td>According to Gran , the company has no plans t...</td>\n",
       "    </tr>\n",
       "    <tr>\n",
       "      <th>1</th>\n",
       "      <td>neutral</td>\n",
       "      <td>Technopolis plans to develop in stages an area...</td>\n",
       "    </tr>\n",
       "    <tr>\n",
       "      <th>2</th>\n",
       "      <td>negative</td>\n",
       "      <td>The international electronic industry company ...</td>\n",
       "    </tr>\n",
       "    <tr>\n",
       "      <th>3</th>\n",
       "      <td>positive</td>\n",
       "      <td>With the new production plant the company woul...</td>\n",
       "    </tr>\n",
       "    <tr>\n",
       "      <th>4</th>\n",
       "      <td>positive</td>\n",
       "      <td>According to the company 's updated strategy f...</td>\n",
       "    </tr>\n",
       "    <tr>\n",
       "      <th>5</th>\n",
       "      <td>positive</td>\n",
       "      <td>FINANCING OF ASPOCOMP 'S GROWTH Aspocomp is ag...</td>\n",
       "    </tr>\n",
       "    <tr>\n",
       "      <th>6</th>\n",
       "      <td>positive</td>\n",
       "      <td>For the last quarter of 2010 , Componenta 's n...</td>\n",
       "    </tr>\n",
       "    <tr>\n",
       "      <th>7</th>\n",
       "      <td>positive</td>\n",
       "      <td>In the third quarter of 2010 , net sales incre...</td>\n",
       "    </tr>\n",
       "    <tr>\n",
       "      <th>8</th>\n",
       "      <td>positive</td>\n",
       "      <td>Operating profit rose to EUR 13.1 mn from EUR ...</td>\n",
       "    </tr>\n",
       "    <tr>\n",
       "      <th>9</th>\n",
       "      <td>positive</td>\n",
       "      <td>Operating profit totalled EUR 21.1 mn , up fro...</td>\n",
       "    </tr>\n",
       "  </tbody>\n",
       "</table>\n",
       "</div>"
      ],
      "text/plain": [
       "    feeling                                               news\n",
       "0   neutral  According to Gran , the company has no plans t...\n",
       "1   neutral  Technopolis plans to develop in stages an area...\n",
       "2  negative  The international electronic industry company ...\n",
       "3  positive  With the new production plant the company woul...\n",
       "4  positive  According to the company 's updated strategy f...\n",
       "5  positive  FINANCING OF ASPOCOMP 'S GROWTH Aspocomp is ag...\n",
       "6  positive  For the last quarter of 2010 , Componenta 's n...\n",
       "7  positive  In the third quarter of 2010 , net sales incre...\n",
       "8  positive  Operating profit rose to EUR 13.1 mn from EUR ...\n",
       "9  positive  Operating profit totalled EUR 21.1 mn , up fro..."
      ]
     },
     "execution_count": 3,
     "metadata": {},
     "output_type": "execute_result"
    }
   ],
   "source": [
    "df_news.head(10)"
   ]
  },
  {
   "cell_type": "markdown",
   "metadata": {
    "id": "JNx63TILoG4x"
   },
   "source": [
    "### *Analizamos datos faltantes*"
   ]
  },
  {
   "cell_type": "markdown",
   "metadata": {
    "id": "VE0Y-JUZ-eFU"
   },
   "source": [
    "Previo a trabajar con las consignas dadas, observamos si tenemos datos faltantes dentro de las columnas, pero no es el caso.\n",
    "\n"
   ]
  },
  {
   "cell_type": "code",
   "execution_count": 4,
   "metadata": {
    "colab": {
     "base_uri": "https://localhost:8080/",
     "height": 196
    },
    "id": "Sl_S6pz3kMjq",
    "outputId": "9ace6925-9476-475a-d74a-f7a40c801549"
   },
   "outputs": [
    {
     "data": {
      "text/plain": [
       "<AxesSubplot:>"
      ]
     },
     "execution_count": 4,
     "metadata": {},
     "output_type": "execute_result"
    },
    {
     "data": {
      "image/png": "[encoded data removed]",
      "text/plain": [
       "<Figure size 720x72 with 3 Axes>"
      ]
     },
     "metadata": {
      "needs_background": "light"
     },
     "output_type": "display_data"
    }
   ],
   "source": [
    "msno.bar(df_news, figsize=(10,1), fontsize=12)"
   ]
  },
  {
   "cell_type": "markdown",
   "metadata": {
    "id": "nVViyyopeiXD"
   },
   "source": [
    "### *Analizamos noticias repetidas*"
   ]
  },
  {
   "cell_type": "code",
   "execution_count": 5,
   "metadata": {
    "colab": {
     "base_uri": "https://localhost:8080/"
    },
    "id": "NkT_o4u3sNPh",
    "outputId": "66e683e6-645b-4f65-d9a8-3277afff09d2"
   },
   "outputs": [
    {
     "data": {
      "text/plain": [
       "Ahlstrom 's share is quoted on the NASDAQ OMX Helsinki .                                                                                                                                                                                                                                                    2\n",
       "The company serves customers in various industries , including process and resources , industrial machinery , architecture , building , construction , electrical , transportation , electronics , chemical , petrochemical , energy , and information technology , as well as catering and households .    2\n",
       "Proha Plc ( Euronext :7327 ) announced today ( 19 May ) that its fully-owned subsidiary , Safran Software Solutions AS , has agreed to sell its 49 % share of Safran North America LLC to a SNA Holding AS , an investment group based in Norway .                                                          2\n",
       "The issuer is solely responsible for the content of this announcement .                                                                                                                                                                                                                                     2\n",
       "The report profiles 614 companies including many key and niche players worldwide such as Black & Decker Corporation , Fiskars Corporation , Fiskars Brands , Inc. , Husqvarna Outdoor Products Inc. , K+S Group , Ryobi Technologies , Inc. , The Scotts Miracle-Gro Company , and Van Group , Inc. .       2\n",
       "The Group 's business is balanced by its broad portfolio of sports and presence in all major markets .                                                                                                                                                                                                      2\n",
       "TELECOMWORLDWIRE-7 April 2006-TJ Group Plc sells stake in Morning Digital Design Oy Finnish IT company TJ Group Plc said on Friday 7 April that it had signed an agreement on selling its shares of Morning Digital Design Oy to Edita Oyj .                                                                2\n",
       "SSH Communications Security Corporation is headquartered in Helsinki , Finland .                                                                                                                                                                                                                            2\n",
       "Following the increase the company+�EUR TM s capital totals 5.5 mln Romanian lei $ 1.98 mln-1 .56 mln euro .                                                                                                                                                                                                1\n",
       "Number of offers received for this contract is two .                                                                                                                                                                                                                                                        1\n",
       "Name: news, dtype: int64"
      ]
     },
     "execution_count": 5,
     "metadata": {},
     "output_type": "execute_result"
    }
   ],
   "source": [
    "df_news.news.value_counts().head(10)"
   ]
  },
  {
   "cell_type": "code",
   "execution_count": 6,
   "metadata": {
    "colab": {
     "base_uri": "https://localhost:8080/"
    },
    "id": "1Twsg7RC-1XR",
    "outputId": "1e66e3a8-38a0-4205-c40b-5d95e83400c3"
   },
   "outputs": [
    {
     "data": {
      "text/plain": [
       "4846"
      ]
     },
     "execution_count": 6,
     "metadata": {},
     "output_type": "execute_result"
    }
   ],
   "source": [
    "df_news.news.size"
   ]
  },
  {
   "cell_type": "code",
   "execution_count": 7,
   "metadata": {
    "id": "MuxnFLn6-1Yz"
   },
   "outputs": [],
   "source": [
    "df_news = df_news.drop_duplicates(subset = [\"news\"])"
   ]
  },
  {
   "cell_type": "code",
   "execution_count": 8,
   "metadata": {
    "colab": {
     "base_uri": "https://localhost:8080/"
    },
    "id": "gVk0OqC_WyAR",
    "outputId": "7392b031-34e3-4ff1-89e3-6727dadf36df"
   },
   "outputs": [
    {
     "data": {
      "text/plain": [
       "4838"
      ]
     },
     "execution_count": 8,
     "metadata": {},
     "output_type": "execute_result"
    }
   ],
   "source": [
    "df_news.news.size"
   ]
  },
  {
   "cell_type": "markdown",
   "metadata": {
    "id": "co9CaPDXr5k-"
   },
   "source": [
    "### *Control*"
   ]
  },
  {
   "cell_type": "code",
   "execution_count": 9,
   "metadata": {
    "colab": {
     "base_uri": "https://localhost:8080/"
    },
    "id": "5IZpdYKasAkF",
    "outputId": "6447f47e-0847-44ad-cbc0-9915e613b848"
   },
   "outputs": [
    {
     "name": "stdout",
     "output_type": "stream",
     "text": [
      "<class 'pandas.core.frame.DataFrame'>\n",
      "Int64Index: 4838 entries, 0 to 4845\n",
      "Data columns (total 2 columns):\n",
      " #   Column   Non-Null Count  Dtype \n",
      "---  ------   --------------  ----- \n",
      " 0   feeling  4838 non-null   object\n",
      " 1   news     4838 non-null   object\n",
      "dtypes: object(2)\n",
      "memory usage: 113.4+ KB\n"
     ]
    }
   ],
   "source": [
    "df_news.info()"
   ]
  },
  {
   "cell_type": "code",
   "execution_count": 10,
   "metadata": {
    "colab": {
     "base_uri": "https://localhost:8080/",
     "height": 173
    },
    "id": "MADcKZ0AUUQc",
    "outputId": "97dd9418-59a9-494a-b76e-63973b93a57e"
   },
   "outputs": [
    {
     "data": {
      "text/html": [
       "<div>\n",
       "<style scoped>\n",
       "    .dataframe tbody tr th:only-of-type {\n",
       "        vertical-align: middle;\n",
       "    }\n",
       "\n",
       "    .dataframe tbody tr th {\n",
       "        vertical-align: top;\n",
       "    }\n",
       "\n",
       "    .dataframe thead th {\n",
       "        text-align: right;\n",
       "    }\n",
       "</style>\n",
       "<table border=\"1\" class=\"dataframe\">\n",
       "  <thead>\n",
       "    <tr style=\"text-align: right;\">\n",
       "      <th></th>\n",
       "      <th>feeling</th>\n",
       "      <th>news</th>\n",
       "    </tr>\n",
       "  </thead>\n",
       "  <tbody>\n",
       "    <tr>\n",
       "      <th>count</th>\n",
       "      <td>4838</td>\n",
       "      <td>4838</td>\n",
       "    </tr>\n",
       "    <tr>\n",
       "      <th>unique</th>\n",
       "      <td>3</td>\n",
       "      <td>4838</td>\n",
       "    </tr>\n",
       "    <tr>\n",
       "      <th>top</th>\n",
       "      <td>neutral</td>\n",
       "      <td>This new partnership agreement represents a si...</td>\n",
       "    </tr>\n",
       "    <tr>\n",
       "      <th>freq</th>\n",
       "      <td>2872</td>\n",
       "      <td>1</td>\n",
       "    </tr>\n",
       "  </tbody>\n",
       "</table>\n",
       "</div>"
      ],
      "text/plain": [
       "        feeling                                               news\n",
       "count      4838                                               4838\n",
       "unique        3                                               4838\n",
       "top     neutral  This new partnership agreement represents a si...\n",
       "freq       2872                                                  1"
      ]
     },
     "execution_count": 10,
     "metadata": {},
     "output_type": "execute_result"
    }
   ],
   "source": [
    "df_news.describe()"
   ]
  },
  {
   "cell_type": "markdown",
   "metadata": {
    "id": "WTXP-iEj0hYZ"
   },
   "source": [
    "## *Analisis y curación*"
   ]
  },
  {
   "cell_type": "markdown",
   "metadata": {
    "id": "e5SO_S4R8Jxw"
   },
   "source": [
    "#### Word tokenizer"
   ]
  },
  {
   "cell_type": "markdown",
   "metadata": {
    "id": "w6L2yoRkv2Er"
   },
   "source": [
    "Generamos los tokens a partir de los espacios en blanco y a partir de los saltos de línea \"\\n\"."
   ]
  },
  {
   "cell_type": "code",
   "execution_count": 11,
   "metadata": {
    "id": "74is0CdQ8JyC"
   },
   "outputs": [],
   "source": [
    "from nltk.tokenize import WhitespaceTokenizer\n",
    "\n",
    "#Generamos los tokens a partir de espacios en blanco y de saltos de línea\n",
    "def p_word_tokenizer(text_string):    \n",
    "    return WhitespaceTokenizer().tokenize(text_string)"
   ]
  },
  {
   "cell_type": "markdown",
   "metadata": {
    "id": "d59nCUy98JyD"
   },
   "source": [
    "#### Only letters"
   ]
  },
  {
   "cell_type": "markdown",
   "metadata": {
    "id": "RAnnFVQRwFYd"
   },
   "source": [
    "Pasamos palabras a minúsculas, removemos símbolos y números. Removemos todos los símbolos y números ya que observamos luego de no haberlos sacado en un comienzo que estos caracteres solo terminaban generando ruido, y no aportando información relevante para nuestro análisis."
   ]
  },
  {
   "cell_type": "code",
   "execution_count": 12,
   "metadata": {
    "id": "MJ8SE0o18JyD"
   },
   "outputs": [],
   "source": [
    "import re\n",
    "\n",
    "#Pasamos palabras a minúsculas, removemos símbolos y números\n",
    "def p_only_letters(text_list):\n",
    "\n",
    "    #Pasa todo a minúscula y remueve todos los símbolos excepto el guión bajo\n",
    "    clean_text_list = [re.sub('[\\W]+', '', word.lower()) for word in text_list]\n",
    "\n",
    "    #Remueve números\n",
    "    clean_text_list = [re.sub(r\"\\d+\", \"\", word) for word in clean_text_list]\n",
    "\n",
    "    #Elimina los tokens vacíos\n",
    "    for i in range(clean_text_list.count('')):\n",
    "        clean_text_list.remove('')\n",
    "\n",
    "    return clean_text_list"
   ]
  },
  {
   "cell_type": "markdown",
   "metadata": {
    "id": "SLkxrb4m8JyD"
   },
   "source": [
    "#### Remove stopwords"
   ]
  },
  {
   "cell_type": "code",
   "execution_count": 16,
   "metadata": {
    "colab": {
     "base_uri": "https://localhost:8080/"
    },
    "id": "vuBVMsti8JyE",
    "outputId": "a170750c-8463-454e-cbe1-3f5ed2259e45"
   },
   "outputs": [],
   "source": [
    "import nltk.corpus\n",
    "from nltk.corpus import stopwords\n",
    "#nltk.download('stopwords')\n",
    "\n",
    "#Eliminamos stopwords\n",
    "def p_remove_stopwords(text_list):\n",
    "    stop = stopwords.words('english')\n",
    "    return [word for word in text_list if word not in (stop)]"
   ]
  },
  {
   "cell_type": "markdown",
   "metadata": {
    "id": "FX1u_fjL8JyE"
   },
   "source": [
    "#### Word lemmatizer"
   ]
  },
  {
   "cell_type": "markdown",
   "metadata": {
    "id": "pe1A8Elixy69"
   },
   "source": [
    "El proceso de lematizado tiene por objetivo reducir las palabras de su forma flexionada (ej: comiendo, amigos) a su forma raíz (comer, amigo).\n",
    "\n",
    "Aquí lemmatizamos para todos los tipos de palabras: verbo, sustantivo, adjetivo y adverbio. Por defecto el método lo hace solo para sustantivos (pos=\"n\") por eso por ejemplo no transforma verbos como raining a rain, y si no se aplica de esta forma hay muchas palabras que siguen quedando en su forma flexionada; por ello, lo realizamos de esta forma."
   ]
  },
  {
   "cell_type": "code",
   "execution_count": 17,
   "metadata": {
    "colab": {
     "base_uri": "https://localhost:8080/"
    },
    "id": "G2PZPrMl8JyE",
    "outputId": "ec6809fa-b048-4d8e-8d3d-0f459a9e1290"
   },
   "outputs": [],
   "source": [
    "from nltk.stem import WordNetLemmatizer\n",
    "#nltk.download('wordnet')\n",
    "\n",
    "#Lemmatizamos para todos los tipos de palabras: verbo, sustantivo, adjetivo y adverbio.\n",
    "def p_word_lemmatizer(text_list):\n",
    "    lemm_text_list = [WordNetLemmatizer().lemmatize(word, pos=\"n\") for word in text_list]\n",
    "    lemm_text_list = [WordNetLemmatizer().lemmatize(word, pos=\"v\") for word in lemm_text_list]\n",
    "    lemm_text_list = [WordNetLemmatizer().lemmatize(word, pos=\"a\") for word in lemm_text_list]\n",
    "    lemm_text_list = [WordNetLemmatizer().lemmatize(word, pos=\"r\") for word in lemm_text_list]\n",
    "    return lemm_text_list"
   ]
  },
  {
   "cell_type": "markdown",
   "metadata": {
    "id": "qOzOFsSh8cVw"
   },
   "source": [
    "#### Pipeline"
   ]
  },
  {
   "cell_type": "markdown",
   "metadata": {
    "id": "luE31YFGzmOq"
   },
   "source": [
    "Realizamos una función de transformación para \"pipelinizar\" aquellas funciones que se usarán en el pipeline:"
   ]
  },
  {
   "cell_type": "code",
   "execution_count": 18,
   "metadata": {
    "id": "ml__pa2Y8cWE"
   },
   "outputs": [],
   "source": [
    "from sklearn.preprocessing import FunctionTransformer\n",
    "\n",
    "#Función para transformar las funciones que se usarán en el pipeline.\n",
    "def pipelinize(function, active=True):\n",
    "\n",
    "    def list_comprehend_a_function(list_of_texts, active=True):\n",
    "        if active:\n",
    "            return [function(i) for i in list_of_texts]\n",
    "        else: # if it's not active, just pass it right back\n",
    "            return list_of_texts\n",
    "\n",
    "    return FunctionTransformer(list_comprehend_a_function, validate=False, kw_args={'active':active})"
   ]
  },
  {
   "cell_type": "markdown",
   "metadata": {
    "id": "IQ7xe8Z8z8Qb"
   },
   "source": [
    "Aquí utilizamos por primera vez el pipeline para aplicar las funciones de normalización en cada noticia de esta forma más automatizada:"
   ]
  },
  {
   "cell_type": "code",
   "execution_count": 19,
   "metadata": {
    "id": "HDOvdUDC8cWF"
   },
   "outputs": [],
   "source": [
    "from sklearn.pipeline import Pipeline\n",
    "\n",
    "estimators = [('p_word_tokenizer', pipelinize(p_word_tokenizer)),\n",
    "              ('p_only_letters', pipelinize(p_only_letters)),\n",
    "              ('p_remove_stopwords', pipelinize(p_remove_stopwords)),\n",
    "              ('p_word_lemmatizer', pipelinize(p_word_lemmatizer))]\n",
    "pipe = Pipeline(estimators)\n",
    "\n",
    "df_news['news_tokens'] = pipe.transform(df_news.news)"
   ]
  },
  {
   "cell_type": "code",
   "execution_count": 20,
   "metadata": {
    "colab": {
     "base_uri": "https://localhost:8080/",
     "height": 359
    },
    "id": "qudj4VlW9arP",
    "outputId": "d803fbc0-ab4b-4285-dd1b-cae9a73b1a8c"
   },
   "outputs": [
    {
     "data": {
      "text/html": [
       "<div>\n",
       "<style scoped>\n",
       "    .dataframe tbody tr th:only-of-type {\n",
       "        vertical-align: middle;\n",
       "    }\n",
       "\n",
       "    .dataframe tbody tr th {\n",
       "        vertical-align: top;\n",
       "    }\n",
       "\n",
       "    .dataframe thead th {\n",
       "        text-align: right;\n",
       "    }\n",
       "</style>\n",
       "<table border=\"1\" class=\"dataframe\">\n",
       "  <thead>\n",
       "    <tr style=\"text-align: right;\">\n",
       "      <th></th>\n",
       "      <th>feeling</th>\n",
       "      <th>news</th>\n",
       "      <th>news_tokens</th>\n",
       "    </tr>\n",
       "  </thead>\n",
       "  <tbody>\n",
       "    <tr>\n",
       "      <th>0</th>\n",
       "      <td>neutral</td>\n",
       "      <td>According to Gran , the company has no plans t...</td>\n",
       "      <td>[accord, gran, company, plan, move, production...</td>\n",
       "    </tr>\n",
       "    <tr>\n",
       "      <th>1</th>\n",
       "      <td>neutral</td>\n",
       "      <td>Technopolis plans to develop in stages an area...</td>\n",
       "      <td>[technopolis, plan, develop, stage, area, le, ...</td>\n",
       "    </tr>\n",
       "    <tr>\n",
       "      <th>2</th>\n",
       "      <td>negative</td>\n",
       "      <td>The international electronic industry company ...</td>\n",
       "      <td>[international, electronic, industry, company,...</td>\n",
       "    </tr>\n",
       "    <tr>\n",
       "      <th>3</th>\n",
       "      <td>positive</td>\n",
       "      <td>With the new production plant the company woul...</td>\n",
       "      <td>[new, production, plant, company, would, incre...</td>\n",
       "    </tr>\n",
       "    <tr>\n",
       "      <th>4</th>\n",
       "      <td>positive</td>\n",
       "      <td>According to the company 's updated strategy f...</td>\n",
       "      <td>[accord, company, update, strategy, year, basw...</td>\n",
       "    </tr>\n",
       "    <tr>\n",
       "      <th>5</th>\n",
       "      <td>positive</td>\n",
       "      <td>FINANCING OF ASPOCOMP 'S GROWTH Aspocomp is ag...</td>\n",
       "      <td>[finance, aspocomp, growth, aspocomp, aggressi...</td>\n",
       "    </tr>\n",
       "    <tr>\n",
       "      <th>6</th>\n",
       "      <td>positive</td>\n",
       "      <td>For the last quarter of 2010 , Componenta 's n...</td>\n",
       "      <td>[last, quarter, componenta, net, sale, double,...</td>\n",
       "    </tr>\n",
       "    <tr>\n",
       "      <th>7</th>\n",
       "      <td>positive</td>\n",
       "      <td>In the third quarter of 2010 , net sales incre...</td>\n",
       "      <td>[third, quarter, net, sale, increase, eur, mn,...</td>\n",
       "    </tr>\n",
       "    <tr>\n",
       "      <th>8</th>\n",
       "      <td>positive</td>\n",
       "      <td>Operating profit rose to EUR 13.1 mn from EUR ...</td>\n",
       "      <td>[operate, profit, rise, eur, mn, eur, mn, corr...</td>\n",
       "    </tr>\n",
       "    <tr>\n",
       "      <th>9</th>\n",
       "      <td>positive</td>\n",
       "      <td>Operating profit totalled EUR 21.1 mn , up fro...</td>\n",
       "      <td>[operate, profit, total, eur, mn, eur, mn, rep...</td>\n",
       "    </tr>\n",
       "  </tbody>\n",
       "</table>\n",
       "</div>"
      ],
      "text/plain": [
       "    feeling                                               news  \\\n",
       "0   neutral  According to Gran , the company has no plans t...   \n",
       "1   neutral  Technopolis plans to develop in stages an area...   \n",
       "2  negative  The international electronic industry company ...   \n",
       "3  positive  With the new production plant the company woul...   \n",
       "4  positive  According to the company 's updated strategy f...   \n",
       "5  positive  FINANCING OF ASPOCOMP 'S GROWTH Aspocomp is ag...   \n",
       "6  positive  For the last quarter of 2010 , Componenta 's n...   \n",
       "7  positive  In the third quarter of 2010 , net sales incre...   \n",
       "8  positive  Operating profit rose to EUR 13.1 mn from EUR ...   \n",
       "9  positive  Operating profit totalled EUR 21.1 mn , up fro...   \n",
       "\n",
       "                                         news_tokens  \n",
       "0  [accord, gran, company, plan, move, production...  \n",
       "1  [technopolis, plan, develop, stage, area, le, ...  \n",
       "2  [international, electronic, industry, company,...  \n",
       "3  [new, production, plant, company, would, incre...  \n",
       "4  [accord, company, update, strategy, year, basw...  \n",
       "5  [finance, aspocomp, growth, aspocomp, aggressi...  \n",
       "6  [last, quarter, componenta, net, sale, double,...  \n",
       "7  [third, quarter, net, sale, increase, eur, mn,...  \n",
       "8  [operate, profit, rise, eur, mn, eur, mn, corr...  \n",
       "9  [operate, profit, total, eur, mn, eur, mn, rep...  "
      ]
     },
     "execution_count": 20,
     "metadata": {},
     "output_type": "execute_result"
    }
   ],
   "source": [
    "df_news[:10]"
   ]
  },
  {
   "cell_type": "markdown",
   "metadata": {
    "id": "iUI51i_OAqk5"
   },
   "source": [
    "#### Etiquetamos Part of Speech"
   ]
  },
  {
   "cell_type": "markdown",
   "metadata": {
    "id": "AIZZD-751ROW"
   },
   "source": [
    "Por último realizamos un etiquetado Part of Speech que consiste en categorizar las palabras lingüísticamente."
   ]
  },
  {
   "cell_type": "code",
   "execution_count": 21,
   "metadata": {
    "colab": {
     "base_uri": "https://localhost:8080/"
    },
    "id": "XfQAPm06Awq0",
    "outputId": "d710f269-662f-4b91-f7f1-89429d8e1cf3"
   },
   "outputs": [],
   "source": [
    "#nltk.download('averaged_perceptron_tagger')\n",
    "\n",
    "def word_pos_tagger(text):\n",
    "    pos_tagged_text = nltk.pos_tag(text)\n",
    "    return pos_tagged_text"
   ]
  },
  {
   "cell_type": "code",
   "execution_count": 22,
   "metadata": {
    "colab": {
     "base_uri": "https://localhost:8080/",
     "height": 204
    },
    "id": "8C_uTSiuA0Wz",
    "outputId": "ff356153-9293-45fa-b54f-49e4ffd277f1"
   },
   "outputs": [
    {
     "data": {
      "text/html": [
       "<div>\n",
       "<style scoped>\n",
       "    .dataframe tbody tr th:only-of-type {\n",
       "        vertical-align: middle;\n",
       "    }\n",
       "\n",
       "    .dataframe tbody tr th {\n",
       "        vertical-align: top;\n",
       "    }\n",
       "\n",
       "    .dataframe thead th {\n",
       "        text-align: right;\n",
       "    }\n",
       "</style>\n",
       "<table border=\"1\" class=\"dataframe\">\n",
       "  <thead>\n",
       "    <tr style=\"text-align: right;\">\n",
       "      <th></th>\n",
       "      <th>feeling</th>\n",
       "      <th>news</th>\n",
       "      <th>news_tokens</th>\n",
       "      <th>news_tokens_tagged</th>\n",
       "    </tr>\n",
       "  </thead>\n",
       "  <tbody>\n",
       "    <tr>\n",
       "      <th>0</th>\n",
       "      <td>neutral</td>\n",
       "      <td>According to Gran , the company has no plans t...</td>\n",
       "      <td>[accord, gran, company, plan, move, production...</td>\n",
       "      <td>[(accord, NN), (gran, VBD), (company, NN), (pl...</td>\n",
       "    </tr>\n",
       "    <tr>\n",
       "      <th>1</th>\n",
       "      <td>neutral</td>\n",
       "      <td>Technopolis plans to develop in stages an area...</td>\n",
       "      <td>[technopolis, plan, develop, stage, area, le, ...</td>\n",
       "      <td>[(technopolis, NN), (plan, NN), (develop, VBP)...</td>\n",
       "    </tr>\n",
       "    <tr>\n",
       "      <th>2</th>\n",
       "      <td>negative</td>\n",
       "      <td>The international electronic industry company ...</td>\n",
       "      <td>[international, electronic, industry, company,...</td>\n",
       "      <td>[(international, JJ), (electronic, JJ), (indus...</td>\n",
       "    </tr>\n",
       "    <tr>\n",
       "      <th>3</th>\n",
       "      <td>positive</td>\n",
       "      <td>With the new production plant the company woul...</td>\n",
       "      <td>[new, production, plant, company, would, incre...</td>\n",
       "      <td>[(new, JJ), (production, NN), (plant, NN), (co...</td>\n",
       "    </tr>\n",
       "    <tr>\n",
       "      <th>4</th>\n",
       "      <td>positive</td>\n",
       "      <td>According to the company 's updated strategy f...</td>\n",
       "      <td>[accord, company, update, strategy, year, basw...</td>\n",
       "      <td>[(accord, NN), (company, NN), (update, NN), (s...</td>\n",
       "    </tr>\n",
       "  </tbody>\n",
       "</table>\n",
       "</div>"
      ],
      "text/plain": [
       "    feeling                                               news  \\\n",
       "0   neutral  According to Gran , the company has no plans t...   \n",
       "1   neutral  Technopolis plans to develop in stages an area...   \n",
       "2  negative  The international electronic industry company ...   \n",
       "3  positive  With the new production plant the company woul...   \n",
       "4  positive  According to the company 's updated strategy f...   \n",
       "\n",
       "                                         news_tokens  \\\n",
       "0  [accord, gran, company, plan, move, production...   \n",
       "1  [technopolis, plan, develop, stage, area, le, ...   \n",
       "2  [international, electronic, industry, company,...   \n",
       "3  [new, production, plant, company, would, incre...   \n",
       "4  [accord, company, update, strategy, year, basw...   \n",
       "\n",
       "                                  news_tokens_tagged  \n",
       "0  [(accord, NN), (gran, VBD), (company, NN), (pl...  \n",
       "1  [(technopolis, NN), (plan, NN), (develop, VBP)...  \n",
       "2  [(international, JJ), (electronic, JJ), (indus...  \n",
       "3  [(new, JJ), (production, NN), (plant, NN), (co...  \n",
       "4  [(accord, NN), (company, NN), (update, NN), (s...  "
      ]
     },
     "execution_count": 22,
     "metadata": {},
     "output_type": "execute_result"
    }
   ],
   "source": [
    "df_news['news_tokens_tagged'] = df_news['news_tokens'].apply(lambda x: word_pos_tagger(x))\n",
    "df_news[:5]"
   ]
  },
  {
   "cell_type": "code",
   "execution_count": 23,
   "metadata": {},
   "outputs": [],
   "source": [
    "df_news.to_csv(\"C:/Users/Pame/OneDrive - ege.fcen.uba.ar/Diplo/mentoria/feeling_procesado.csv\")"
   ]
  }
 ],
 "metadata": {
  "colab": {
   "collapsed_sections": [],
   "name": "Introduccion Aprendizaje Supervisado - news_feeling.ipynb",
   "provenance": []
  },
  "kernelspec": {
   "display_name": "Python 3",
   "language": "python",
   "name": "python3"
  },
  "language_info": {
   "codemirror_mode": {
    "name": "ipython",
    "version": 3
   },
   "file_extension": ".py",
   "mimetype": "text/x-python",
   "name": "python",
   "nbconvert_exporter": "python",
   "pygments_lexer": "ipython3",
   "version": "3.9.5"
  },
  "toc": {
   "base_numbering": 1,
   "nav_menu": {},
   "number_sections": false,
   "sideBar": true,
   "skip_h1_title": false,
   "title_cell": "Table of Contents",
   "title_sidebar": "Contents",
   "toc_cell": false,
   "toc_position": {},
   "toc_section_display": true,
   "toc_window_display": false
  }
 },
 "nbformat": 4,
 "nbformat_minor": 1
}
