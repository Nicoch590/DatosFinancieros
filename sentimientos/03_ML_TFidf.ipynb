{
 "cells": [
  {
   "cell_type": "markdown",
   "metadata": {
    "id": "kgMEw-qD4X0-"
   },
   "source": [
    "# Trabajo de Mentoria - DiploDatos\n",
    "\n",
    "**Grupo A**\n",
    "    \n",
    "Integrantes: \n",
    "    <li> Bruno Garcia\n",
    "    <li> Nicolas Chiapello\n",
    "    <li> Martin Peñas\n",
    "    <li> Pame Pairo"
   ]
  },
  {
   "cell_type": "markdown",
   "metadata": {
    "id": "V7CJdzArBBw4"
   },
   "source": [
    "## Vectorización: Tfidf\n",
    "\n",
    "El conteo de la frecuencia de las palabras tiene la desventaja que palabras como “the”, “a”, “is” en inglés, son muy frecuentes y son poco informativas sobre el contenido real del documento.\n",
    "Una alternativa que suele utilizarse es emplear Tfidf. Tf significa término de frecuencia mientras que tf-idf significa término de frecuencia multiplicado por la frecuencia inversa del documento.\n"
   ]
  },
  {
   "cell_type": "code",
   "execution_count": 1,
   "metadata": {},
   "outputs": [
    {
     "data": {
      "text/html": [
       "<div>\n",
       "<style scoped>\n",
       "    .dataframe tbody tr th:only-of-type {\n",
       "        vertical-align: middle;\n",
       "    }\n",
       "\n",
       "    .dataframe tbody tr th {\n",
       "        vertical-align: top;\n",
       "    }\n",
       "\n",
       "    .dataframe thead th {\n",
       "        text-align: right;\n",
       "    }\n",
       "</style>\n",
       "<table border=\"1\" class=\"dataframe\">\n",
       "  <thead>\n",
       "    <tr style=\"text-align: right;\">\n",
       "      <th></th>\n",
       "      <th>feeling</th>\n",
       "      <th>news</th>\n",
       "      <th>news_tokens</th>\n",
       "      <th>news_tokens_tagged</th>\n",
       "    </tr>\n",
       "  </thead>\n",
       "  <tbody>\n",
       "    <tr>\n",
       "      <th>0</th>\n",
       "      <td>neutral</td>\n",
       "      <td>According to Gran , the company has no plans t...</td>\n",
       "      <td>['accord', 'gran', 'company', 'plan', 'move', ...</td>\n",
       "      <td>[('accord', 'NN'), ('gran', 'VBD'), ('company'...</td>\n",
       "    </tr>\n",
       "    <tr>\n",
       "      <th>1</th>\n",
       "      <td>neutral</td>\n",
       "      <td>Technopolis plans to develop in stages an area...</td>\n",
       "      <td>['technopolis', 'plan', 'develop', 'stage', 'a...</td>\n",
       "      <td>[('technopolis', 'NN'), ('plan', 'NN'), ('deve...</td>\n",
       "    </tr>\n",
       "    <tr>\n",
       "      <th>2</th>\n",
       "      <td>negative</td>\n",
       "      <td>The international electronic industry company ...</td>\n",
       "      <td>['international', 'electronic', 'industry', 'c...</td>\n",
       "      <td>[('international', 'JJ'), ('electronic', 'JJ')...</td>\n",
       "    </tr>\n",
       "  </tbody>\n",
       "</table>\n",
       "</div>"
      ],
      "text/plain": [
       "    feeling                                               news  \\\n",
       "0   neutral  According to Gran , the company has no plans t...   \n",
       "1   neutral  Technopolis plans to develop in stages an area...   \n",
       "2  negative  The international electronic industry company ...   \n",
       "\n",
       "                                         news_tokens  \\\n",
       "0  ['accord', 'gran', 'company', 'plan', 'move', ...   \n",
       "1  ['technopolis', 'plan', 'develop', 'stage', 'a...   \n",
       "2  ['international', 'electronic', 'industry', 'c...   \n",
       "\n",
       "                                  news_tokens_tagged  \n",
       "0  [('accord', 'NN'), ('gran', 'VBD'), ('company'...  \n",
       "1  [('technopolis', 'NN'), ('plan', 'NN'), ('deve...  \n",
       "2  [('international', 'JJ'), ('electronic', 'JJ')...  "
      ]
     },
     "execution_count": 1,
     "metadata": {},
     "output_type": "execute_result"
    }
   ],
   "source": [
    "import pandas as pd \n",
    "import numpy as np\n",
    "\n",
    "df_news= pd.read_csv(\"data/feeling_procesado.csv\").drop(columns=\"Unnamed: 0\")\n",
    "df_news.head(3)"
   ]
  },
  {
   "cell_type": "markdown",
   "metadata": {
    "id": "0_lAfiswOPh5"
   },
   "source": [
    "## *Aprendizaje Automático*"
   ]
  },
  {
   "cell_type": "markdown",
   "metadata": {
    "id": "Z65MsRAwBHku"
   },
   "source": [
    "#### Train/Test Split"
   ]
  },
  {
   "cell_type": "code",
   "execution_count": 50,
   "metadata": {
    "id": "yeug9HeQA8Pa"
   },
   "outputs": [],
   "source": [
    "from sklearn.model_selection import train_test_split\n",
    "from sklearn.feature_extraction.text import CountVectorizer\n",
    "\n",
    "X_train, X_test, y_train, y_test = train_test_split(df_news.news_tokens, df_news.feeling, test_size=0.2, random_state=42)"
   ]
  },
  {
   "cell_type": "code",
   "execution_count": 51,
   "metadata": {},
   "outputs": [
    {
     "name": "stdout",
     "output_type": "stream",
     "text": [
      "(3870, 250)\n",
      "(968, 250)\n"
     ]
    }
   ],
   "source": [
    "from sklearn.feature_extraction.text import TfidfVectorizer\n",
    "max_features = 250\n",
    "\n",
    "tfidf = TfidfVectorizer(#ngram_range=ngram_range,\n",
    "                        stop_words=None,\n",
    "                        lowercase=False,\n",
    "                        max_features=max_features,\n",
    "                        norm='l2')\n",
    "                        \n",
    "features_train = tfidf.fit_transform(X_train).toarray()\n",
    "labels_train = y_train\n",
    "print(features_train.shape)\n",
    "\n",
    "features_test = tfidf.transform(X_test).toarray()\n",
    "labels_test = y_test\n",
    "print(features_test.shape)"
   ]
  },
  {
   "cell_type": "markdown",
   "metadata": {},
   "source": [
    "Se analiza mediante una prueba de $\\chi^2$ las palabras que están asociadas a cada nivel de sentimiento"
   ]
  },
  {
   "cell_type": "code",
   "execution_count": 52,
   "metadata": {},
   "outputs": [],
   "source": [
    "category_codes = {\n",
    "    'neutral': 0,\n",
    "    'negative': 1,\n",
    "    'positive': 2\n",
    "}\n",
    "\n",
    "df_news['Category_Code'] = df_news['feeling'].map(category_codes)"
   ]
  },
  {
   "cell_type": "code",
   "execution_count": 42,
   "metadata": {},
   "outputs": [
    {
     "name": "stdout",
     "output_type": "stream",
     "text": [
      "# 'negative' sentimiento:\n",
      "  . Most correlated unigrams:\n",
      ". loss\n",
      ". eur\n",
      ". mn\n",
      ". fell\n",
      ". decrease\n",
      "\n",
      "# 'neutral' sentimiento:\n",
      "  . Most correlated unigrams:\n",
      ". period\n",
      ". compare\n",
      ". profit\n",
      ". mn\n",
      ". eur\n",
      "\n",
      "# 'positive' sentimiento:\n",
      "  . Most correlated unigrams:\n",
      ". eur\n",
      ". sign\n",
      ". grow\n",
      ". increase\n",
      ". rise\n",
      "\n"
     ]
    }
   ],
   "source": [
    "from sklearn.feature_selection import chi2\n",
    "\n",
    "for noticia, category_id in sorted(category_codes.items()):\n",
    "    features_chi2 = chi2(features_train, labels_train == category_id)\n",
    "    indices = np.argsort(features_chi2[0])\n",
    "    feature_names = np.array(tfidf.get_feature_names())[indices]\n",
    "    unigrams = [v for v in feature_names if len(v.split(' ')) == 1]\n",
    "    bigrams = [v for v in feature_names if len(v.split(' ')) == 2]\n",
    "    print(\"# '{}' sentimiento:\".format(noticia))\n",
    "    print(\"  . Most correlated unigrams:\\n. {}\".format('\\n. '.join(unigrams[-5:])))\n",
    "   # print(\"  . Most correlated bigrams:\\n. {}\".format('\\n. '.join(bigrams[-2:])))\n",
    "    print(\"\")"
   ]
  },
  {
   "cell_type": "code",
   "execution_count": 53,
   "metadata": {},
   "outputs": [],
   "source": [
    "import itertools\n",
    "import numpy as np\n",
    "import matplotlib.pyplot as plt\n",
    "\n",
    "def plot_confusion_matrix(cm, classes,\n",
    "                          normalize=False,\n",
    "                          title='Confusion matrix',\n",
    "                          cmap=plt.cm.Blues):\n",
    "    \"\"\"\n",
    "    This function prints and plots the confusion matrix.\n",
    "    Normalization can be applied by setting `normalize=True`.\n",
    "    \"\"\"\n",
    "    if normalize:\n",
    "        cm = cm.astype('float') / cm.sum(axis=1)[:, np.newaxis]\n",
    "\n",
    "    plt.imshow(cm, interpolation='nearest', cmap=cmap)\n",
    "    plt.title(title)\n",
    "    plt.colorbar()\n",
    "    tick_marks = np.arange(len(classes))\n",
    "    plt.xticks(tick_marks, classes, rotation=45)\n",
    "    plt.yticks(tick_marks, classes)\n",
    "\n",
    "    fmt = '.2f' if normalize else 'd'\n",
    "    thresh = cm.max() / 2.\n",
    "    for i, j in itertools.product(range(cm.shape[0]), range(cm.shape[1])):\n",
    "        plt.text(j, i, format(cm[i, j], fmt),\n",
    "                 horizontalalignment=\"center\",\n",
    "                 color=\"white\" if cm[i, j] > thresh else \"black\")\n",
    "\n",
    "    plt.tight_layout()\n",
    "    plt.ylabel('Etiqueta correcta')\n",
    "    plt.xlabel('Etiqueta predicha')"
   ]
  },
  {
   "cell_type": "markdown",
   "metadata": {},
   "source": [
    "## Regresión Logística"
   ]
  },
  {
   "cell_type": "code",
   "execution_count": 54,
   "metadata": {},
   "outputs": [
    {
     "data": {
      "text/plain": [
       "GridSearchCV(cv=3, estimator=LogisticRegression(), n_jobs=-1,\n",
       "             param_grid={'penalty': ['l1', 'l2', 'elasticnet', 'none'],\n",
       "                         'solver': ['newton-cg', 'lbfgs', 'liblinear', 'sag',\n",
       "                                    'saga']},\n",
       "             scoring='f1_macro')"
      ]
     },
     "execution_count": 54,
     "metadata": {},
     "output_type": "execute_result"
    }
   ],
   "source": [
    "from sklearn.linear_model import LogisticRegression\n",
    "from sklearn.model_selection import GridSearchCV\n",
    "\n",
    "# Selección de parámetros\n",
    "params = {\n",
    "    'penalty':['l1', 'l2', 'elasticnet', 'none'],\n",
    "    'solver': ['newton-cg', 'lbfgs', 'liblinear', 'sag', 'saga']\n",
    "}\n",
    "\n",
    "Logreg = LogisticRegression()\n",
    "Logreg_clf = GridSearchCV(Logreg, params, cv=3, scoring='f1_macro', n_jobs=-1)\n",
    "Logreg_clf.fit(features_train, labels_train)"
   ]
  },
  {
   "cell_type": "code",
   "execution_count": 55,
   "metadata": {},
   "outputs": [
    {
     "name": "stdout",
     "output_type": "stream",
     "text": [
      "LogisticRegression(penalty='l1', solver='saga')\n"
     ]
    }
   ],
   "source": [
    "best_Logreg = Logreg_clf.best_estimator_\n",
    "print(best_Logreg)"
   ]
  },
  {
   "cell_type": "code",
   "execution_count": 56,
   "metadata": {},
   "outputs": [
    {
     "name": "stdout",
     "output_type": "stream",
     "text": [
      "=====================================================================\n",
      "Regresión Logística - Reporte de clasificación del conjunto de testeo\n",
      "=====================================================================\n",
      "              precision    recall  f1-score   support\n",
      "\n",
      "    negative       0.62      0.43      0.51       120\n",
      "     neutral       0.73      0.88      0.80       575\n",
      "    positive       0.64      0.46      0.54       273\n",
      "\n",
      "    accuracy                           0.70       968\n",
      "   macro avg       0.66      0.59      0.61       968\n",
      "weighted avg       0.69      0.70      0.69       968\n",
      "\n"
     ]
    }
   ],
   "source": [
    "text = \"Regresión Logística - Reporte de clasificación del conjunto de testeo\"\n",
    "print(len(text)*\"=\")\n",
    "print(text)\n",
    "print(len(text)*\"=\")\n",
    "print(classification_report(labels_test, best_Logreg.predict(features_test)))"
   ]
  },
  {
   "cell_type": "code",
   "execution_count": 57,
   "metadata": {},
   "outputs": [
    {
     "data": {
      "image/png": "[encoded data removed]",
      "text/plain": [
       "<Figure size 432x288 with 2 Axes>"
      ]
     },
     "metadata": {
      "needs_background": "light"
     },
     "output_type": "display_data"
    }
   ],
   "source": [
    "cm = confusion_matrix(labels_test, best_Logreg.predict(features_test),\n",
    "                      labels=['neutral', 'positive', 'negative'])\n",
    "plot_confusion_matrix(cm, ['neutral', 'positive', 'negative'])"
   ]
  },
  {
   "cell_type": "markdown",
   "metadata": {},
   "source": [
    "## Naive Bayes"
   ]
  },
  {
   "cell_type": "code",
   "execution_count": 60,
   "metadata": {},
   "outputs": [
    {
     "data": {
      "text/plain": [
       "GridSearchCV(cv=3, estimator=MultinomialNB(),\n",
       "             param_grid={'alpha': [1.0, 0.5, 0.1, 0.01, 0.001, 0.0001],\n",
       "                         'class_prior': [None, [0.33, 0.34, 0.33],\n",
       "                                         [0.12790698, 0.58914729, 0.28294574]],\n",
       "                         'fit_prior': [1, 0]},\n",
       "             scoring='f1_macro')"
      ]
     },
     "execution_count": 60,
     "metadata": {},
     "output_type": "execute_result"
    }
   ],
   "source": [
    "from sklearn.naive_bayes import MultinomialNB\n",
    "\n",
    "param_grid = {\n",
    "    'alpha': [1.0, 0.5, 0.1, 0.01, 0.001, 0.0001],\n",
    "    'fit_prior': [1, 0],\n",
    "    'class_prior': [None, [0.33, 0.34, 0.33], [0.12790698, 0.58914729, 0.28294574]]\n",
    "}\n",
    "\n",
    "multinomNB = MultinomialNB()\n",
    "multinomNB_clf = GridSearchCV(multinomNB, param_grid, scoring='f1_macro', cv=3)\n",
    "multinomNB_clf.fit(features_train, labels_train)"
   ]
  },
  {
   "cell_type": "code",
   "execution_count": 61,
   "metadata": {
    "colab": {
     "base_uri": "https://localhost:8080/"
    },
    "id": "fbur1zR1bfMP",
    "outputId": "d5c7292a-ac53-4f3f-bffd-b2010b58f780"
   },
   "outputs": [
    {
     "data": {
      "text/plain": [
       "MultinomialNB(alpha=0.5, class_prior=[0.33, 0.34, 0.33], fit_prior=1)"
      ]
     },
     "execution_count": 61,
     "metadata": {},
     "output_type": "execute_result"
    }
   ],
   "source": [
    "best_multinomNB = multinomNB_clf.best_estimator_\n",
    "best_multinomNB"
   ]
  },
  {
   "cell_type": "code",
   "execution_count": 62,
   "metadata": {
    "colab": {
     "base_uri": "https://localhost:8080/"
    },
    "id": "rL-chM6WbiM4",
    "outputId": "3dd0db2b-7f8b-4a79-bb8b-a6bb95f4a13b"
   },
   "outputs": [
    {
     "name": "stdout",
     "output_type": "stream",
     "text": [
      "=============================================================\n",
      "Naive Bayes - Reporte de clasificación del conjunto de testeo\n",
      "=============================================================\n",
      "              precision    recall  f1-score   support\n",
      "\n",
      "    negative       0.38      0.71      0.49       120\n",
      "     neutral       0.77      0.75      0.76       575\n",
      "    positive       0.56      0.37      0.45       273\n",
      "\n",
      "    accuracy                           0.64       968\n",
      "   macro avg       0.57      0.61      0.57       968\n",
      "weighted avg       0.66      0.64      0.64       968\n",
      "\n"
     ]
    }
   ],
   "source": [
    "text = \"Naive Bayes - Reporte de clasificación del conjunto de testeo\"\n",
    "print(len(text)*\"=\")\n",
    "print(text)\n",
    "print(len(text)*\"=\")\n",
    "print(classification_report(labels_test, best_multinomNB.predict(features_test)))"
   ]
  },
  {
   "cell_type": "markdown",
   "metadata": {},
   "source": [
    "## BayesSearch"
   ]
  },
  {
   "cell_type": "code",
   "execution_count": 80,
   "metadata": {},
   "outputs": [
    {
     "data": {
      "text/plain": [
       "BayesSearchCV(cv=3,\n",
       "              estimator=MultinomialNB(class_prior=[0.12790698, 0.58914729,\n",
       "                                                   0.28294574]),\n",
       "              scoring='f1_macro',\n",
       "              search_spaces={'alpha': Real(low=0.001, high=1.0, prior='uniform', transform='identity'),\n",
       "                             'fit_prior': Categorical(categories=(False,), prior=None)})"
      ]
     },
     "execution_count": 80,
     "metadata": {},
     "output_type": "execute_result"
    }
   ],
   "source": [
    "param_bayes_nv = {\n",
    "    'alpha': Real(0.001, 1.0),\n",
    "    'fit_prior': Categorical([False])\n",
    "    #'class_prior': Real([[0.33, 0.34, 0.33]])\n",
    "}\n",
    "\n",
    "multinomNB = MultinomialNB(class_prior=[0.12790698, 0.58914729, 0.28294574])\n",
    "multinomNB_bayes = BayesSearchCV(multinomNB, param_bayes_nv, scoring='f1_macro', cv=3)\n",
    "multinomNB_bayes.fit(features_train, labels_train)"
   ]
  },
  {
   "cell_type": "code",
   "execution_count": 81,
   "metadata": {},
   "outputs": [
    {
     "data": {
      "text/plain": [
       "MultinomialNB(alpha=0.550862689056596,\n",
       "              class_prior=[0.12790698, 0.58914729, 0.28294574],\n",
       "              fit_prior=False)"
      ]
     },
     "execution_count": 81,
     "metadata": {},
     "output_type": "execute_result"
    }
   ],
   "source": [
    "best_multinomNB_bayes = multinomNB_bayes.best_estimator_\n",
    "best_multinomNB_bayes"
   ]
  },
  {
   "cell_type": "code",
   "execution_count": 82,
   "metadata": {},
   "outputs": [
    {
     "name": "stdout",
     "output_type": "stream",
     "text": [
      "=============================================================\n",
      "Naive Bayes - Reporte de clasificación del conjunto de testeo\n",
      "=============================================================\n",
      "              precision    recall  f1-score   support\n",
      "\n",
      "    negative       0.63      0.39      0.48       120\n",
      "     neutral       0.71      0.92      0.80       575\n",
      "    positive       0.65      0.34      0.45       273\n",
      "\n",
      "    accuracy                           0.69       968\n",
      "   macro avg       0.66      0.55      0.58       968\n",
      "weighted avg       0.68      0.69      0.66       968\n",
      "\n"
     ]
    }
   ],
   "source": [
    "text = \"Naive Bayes - Reporte de clasificación del conjunto de testeo\"\n",
    "print(len(text)*\"=\")\n",
    "print(text)\n",
    "print(len(text)*\"=\")\n",
    "print(classification_report(labels_test, best_multinomNB_bayes.predict(features_test)))"
   ]
  },
  {
   "cell_type": "code",
   "execution_count": 83,
   "metadata": {},
   "outputs": [
    {
     "data": {
      "image/png": "[encoded data removed]",
      "text/plain": [
       "<Figure size 432x288 with 2 Axes>"
      ]
     },
     "metadata": {
      "needs_background": "light"
     },
     "output_type": "display_data"
    }
   ],
   "source": [
    "cm = confusion_matrix(labels_test, best_multinomNB_bayes.predict(features_test),\n",
    "                      labels=['neutral', 'positive', 'negative'])\n",
    "plot_confusion_matrix(cm, ['neutral', 'positive', 'negative'])"
   ]
  },
  {
   "cell_type": "markdown",
   "metadata": {},
   "source": [
    "## SVM"
   ]
  },
  {
   "cell_type": "code",
   "execution_count": 84,
   "metadata": {},
   "outputs": [],
   "source": [
    "from sklearn.svm import SVC\n",
    "\n",
    "params = {\n",
    "    \"kernel\": [\"linear\", \"poly\", \"rbf\", \"sigmoid\"],\n",
    "    \"gamma\": [\"auto\", \"scale\"],\n",
    "    \"C\": [1,10,20]\n",
    "}\n",
    "\n",
    "svm = SVC()\n",
    "svm_clf = GridSearchCV(svm, params, cv=3, scoring='f1_macro', n_jobs=-1)\n",
    "svm_clf.fit(features_train, labels_train)\n",
    "\n",
    "best_svm = svm_clf.best_estimator_"
   ]
  },
  {
   "cell_type": "code",
   "execution_count": 85,
   "metadata": {},
   "outputs": [
    {
     "name": "stdout",
     "output_type": "stream",
     "text": [
      "SVC(C=10, gamma='auto', kernel='linear')\n"
     ]
    }
   ],
   "source": [
    "print(best_svm)"
   ]
  },
  {
   "cell_type": "code",
   "execution_count": 86,
   "metadata": {},
   "outputs": [
    {
     "name": "stdout",
     "output_type": "stream",
     "text": [
      "=====================================================\n",
      "SVM - Reporte de clasificación del conjunto de testeo\n",
      "=====================================================\n",
      "              precision    recall  f1-score   support\n",
      "\n",
      "    negative       0.53      0.47      0.50       120\n",
      "     neutral       0.75      0.86      0.80       575\n",
      "    positive       0.65      0.47      0.55       273\n",
      "\n",
      "    accuracy                           0.70       968\n",
      "   macro avg       0.64      0.60      0.61       968\n",
      "weighted avg       0.69      0.70      0.69       968\n",
      "\n"
     ]
    }
   ],
   "source": [
    "text = \"SVM - Reporte de clasificación del conjunto de testeo\"\n",
    "print(len(text)*\"=\")\n",
    "print(text)\n",
    "print(len(text)*\"=\")\n",
    "print(classification_report(labels_test, best_svm.predict(features_test)))"
   ]
  },
  {
   "cell_type": "code",
   "execution_count": 87,
   "metadata": {},
   "outputs": [
    {
     "data": {
      "image/png": "[encoded data removed]",
      "text/plain": [
       "<Figure size 432x288 with 2 Axes>"
      ]
     },
     "metadata": {
      "needs_background": "light"
     },
     "output_type": "display_data"
    }
   ],
   "source": [
    "cm = confusion_matrix(labels_test, best_svm.predict(features_test),\n",
    "                      labels=['neutral', 'positive', 'negative'])\n",
    "plot_confusion_matrix(cm, ['neutral', 'positive', 'negative'])"
   ]
  },
  {
   "cell_type": "markdown",
   "metadata": {},
   "source": [
    "## BayesSearch"
   ]
  },
  {
   "cell_type": "code",
   "execution_count": 114,
   "metadata": {
    "scrolled": true
   },
   "outputs": [
    {
     "name": "stderr",
     "output_type": "stream",
     "text": [
      "C:\\Users\\Pame\\anaconda3\\envs\\diplo\\lib\\site-packages\\skopt\\optimizer\\optimizer.py:449: UserWarning: The objective has been evaluated at this point before.\n",
      "  warnings.warn(\"The objective has been evaluated \"\n",
      "C:\\Users\\Pame\\anaconda3\\envs\\diplo\\lib\\site-packages\\skopt\\optimizer\\optimizer.py:449: UserWarning: The objective has been evaluated at this point before.\n",
      "  warnings.warn(\"The objective has been evaluated \"\n",
      "C:\\Users\\Pame\\anaconda3\\envs\\diplo\\lib\\site-packages\\skopt\\optimizer\\optimizer.py:449: UserWarning: The objective has been evaluated at this point before.\n",
      "  warnings.warn(\"The objective has been evaluated \"\n",
      "C:\\Users\\Pame\\anaconda3\\envs\\diplo\\lib\\site-packages\\skopt\\optimizer\\optimizer.py:449: UserWarning: The objective has been evaluated at this point before.\n",
      "  warnings.warn(\"The objective has been evaluated \"\n",
      "C:\\Users\\Pame\\anaconda3\\envs\\diplo\\lib\\site-packages\\skopt\\optimizer\\optimizer.py:449: UserWarning: The objective has been evaluated at this point before.\n",
      "  warnings.warn(\"The objective has been evaluated \"\n",
      "C:\\Users\\Pame\\anaconda3\\envs\\diplo\\lib\\site-packages\\skopt\\optimizer\\optimizer.py:449: UserWarning: The objective has been evaluated at this point before.\n",
      "  warnings.warn(\"The objective has been evaluated \"\n",
      "C:\\Users\\Pame\\anaconda3\\envs\\diplo\\lib\\site-packages\\skopt\\optimizer\\optimizer.py:449: UserWarning: The objective has been evaluated at this point before.\n",
      "  warnings.warn(\"The objective has been evaluated \"\n",
      "C:\\Users\\Pame\\anaconda3\\envs\\diplo\\lib\\site-packages\\skopt\\optimizer\\optimizer.py:449: UserWarning: The objective has been evaluated at this point before.\n",
      "  warnings.warn(\"The objective has been evaluated \"\n",
      "C:\\Users\\Pame\\anaconda3\\envs\\diplo\\lib\\site-packages\\skopt\\optimizer\\optimizer.py:449: UserWarning: The objective has been evaluated at this point before.\n",
      "  warnings.warn(\"The objective has been evaluated \"\n",
      "C:\\Users\\Pame\\anaconda3\\envs\\diplo\\lib\\site-packages\\skopt\\optimizer\\optimizer.py:449: UserWarning: The objective has been evaluated at this point before.\n",
      "  warnings.warn(\"The objective has been evaluated \"\n",
      "C:\\Users\\Pame\\anaconda3\\envs\\diplo\\lib\\site-packages\\skopt\\optimizer\\optimizer.py:449: UserWarning: The objective has been evaluated at this point before.\n",
      "  warnings.warn(\"The objective has been evaluated \"\n",
      "C:\\Users\\Pame\\anaconda3\\envs\\diplo\\lib\\site-packages\\skopt\\optimizer\\optimizer.py:449: UserWarning: The objective has been evaluated at this point before.\n",
      "  warnings.warn(\"The objective has been evaluated \"\n",
      "C:\\Users\\Pame\\anaconda3\\envs\\diplo\\lib\\site-packages\\skopt\\optimizer\\optimizer.py:449: UserWarning: The objective has been evaluated at this point before.\n",
      "  warnings.warn(\"The objective has been evaluated \"\n",
      "C:\\Users\\Pame\\anaconda3\\envs\\diplo\\lib\\site-packages\\skopt\\optimizer\\optimizer.py:449: UserWarning: The objective has been evaluated at this point before.\n",
      "  warnings.warn(\"The objective has been evaluated \"\n",
      "C:\\Users\\Pame\\anaconda3\\envs\\diplo\\lib\\site-packages\\skopt\\optimizer\\optimizer.py:449: UserWarning: The objective has been evaluated at this point before.\n",
      "  warnings.warn(\"The objective has been evaluated \"\n"
     ]
    }
   ],
   "source": [
    "params_bayes_svm = {\n",
    "    \"kernel\": Categorical([\"linear\", \"poly\", \"rbf\", \"sigmoid\"]),\n",
    "    \"gamma\": Categorical([\"auto\", \"scale\"]),\n",
    "    \"C\": Integer(1,30)\n",
    "}\n",
    "\n",
    "svm = SVC()\n",
    "svm_clf_bayes = BayesSearchCV(svm, params_bayes_svm, cv=3, scoring='f1_macro', n_jobs=-1)\n",
    "svm_clf_bayes.fit(features_train, labels_train)\n",
    "\n",
    "best_svm_bayes = svm_clf_bayes.best_estimator_"
   ]
  },
  {
   "cell_type": "code",
   "execution_count": 116,
   "metadata": {},
   "outputs": [
    {
     "name": "stdout",
     "output_type": "stream",
     "text": [
      "SVC(C=6)\n"
     ]
    }
   ],
   "source": [
    "print(best_svm_bayes)"
   ]
  },
  {
   "cell_type": "code",
   "execution_count": 115,
   "metadata": {
    "scrolled": true
   },
   "outputs": [
    {
     "name": "stdout",
     "output_type": "stream",
     "text": [
      "=====================================================\n",
      "SVM - Reporte de clasificación del conjunto de testeo\n",
      "=====================================================\n",
      "              precision    recall  f1-score   support\n",
      "\n",
      "    negative       0.57      0.43      0.49       120\n",
      "     neutral       0.76      0.86      0.81       575\n",
      "    positive       0.63      0.51      0.56       273\n",
      "\n",
      "    accuracy                           0.71       968\n",
      "   macro avg       0.65      0.60      0.62       968\n",
      "weighted avg       0.70      0.71      0.70       968\n",
      "\n"
     ]
    }
   ],
   "source": [
    "text = \"SVM - Reporte de clasificación del conjunto de testeo\"\n",
    "print(len(text)*\"=\")\n",
    "print(text)\n",
    "print(len(text)*\"=\")\n",
    "print(classification_report(labels_test, best_svm_bayes.predict(features_test)))"
   ]
  },
  {
   "cell_type": "markdown",
   "metadata": {},
   "source": [
    "## Random Forest"
   ]
  },
  {
   "cell_type": "code",
   "execution_count": 90,
   "metadata": {},
   "outputs": [],
   "source": [
    "param_grid = {\n",
    "    'max_depth': [10, 30, 60],\n",
    "    'criterion':['gini', 'entropy'],\n",
    "    'min_samples_split': [2, 4, 8, 10],\n",
    "    'min_samples_leaf':[2, 5, 10],\n",
    "    'n_estimators': [10, 20, 40, 50]\n",
    "   \n",
    "}"
   ]
  },
  {
   "cell_type": "code",
   "execution_count": 91,
   "metadata": {},
   "outputs": [
    {
     "data": {
      "text/plain": [
       "GridSearchCV(cv=3, estimator=RandomForestClassifier(random_state=42),\n",
       "             param_grid={'criterion': ['gini', 'entropy'],\n",
       "                         'max_depth': [10, 30, 60],\n",
       "                         'min_samples_leaf': [2, 5, 10],\n",
       "                         'min_samples_split': [2, 4, 8, 10],\n",
       "                         'n_estimators': [10, 20, 40, 50]},\n",
       "             scoring=make_scorer(f1_score, average=macro))"
      ]
     },
     "execution_count": 91,
     "metadata": {},
     "output_type": "execute_result"
    }
   ],
   "source": [
    "from sklearn.ensemble import RandomForestClassifier\n",
    "from sklearn.metrics import classification_report, confusion_matrix, accuracy_score, plot_confusion_matrix,f1_score, make_scorer\n",
    "\n",
    "# First create the base model to tune\n",
    "rfc = RandomForestClassifier(random_state=42)\n",
    "scorer = make_scorer(f1_score, average = \"macro\")\n",
    "\n",
    "# Definition of the random search\n",
    "random_search = GridSearchCV(estimator=rfc,\n",
    "                             param_grid=param_grid,\n",
    "                             scoring= scorer,\n",
    "                             cv=3)\n",
    "\n",
    "# Fit the random search model\n",
    "random_search.fit(features_train, labels_train)"
   ]
  },
  {
   "cell_type": "code",
   "execution_count": 92,
   "metadata": {},
   "outputs": [
    {
     "data": {
      "text/plain": [
       "RandomForestClassifier(criterion='entropy', max_depth=60, min_samples_leaf=2,\n",
       "                       n_estimators=50, random_state=42)"
      ]
     },
     "execution_count": 92,
     "metadata": {},
     "output_type": "execute_result"
    }
   ],
   "source": [
    "random_search.best_estimator_"
   ]
  },
  {
   "cell_type": "code",
   "execution_count": 93,
   "metadata": {},
   "outputs": [],
   "source": [
    "best_rfc = random_search.best_estimator_"
   ]
  },
  {
   "cell_type": "code",
   "execution_count": 94,
   "metadata": {},
   "outputs": [
    {
     "data": {
      "text/plain": [
       "RandomForestClassifier(criterion='entropy', max_depth=60, min_samples_leaf=2,\n",
       "                       n_estimators=50, random_state=42)"
      ]
     },
     "execution_count": 94,
     "metadata": {},
     "output_type": "execute_result"
    }
   ],
   "source": [
    "best_rfc.fit(features_train, labels_train)"
   ]
  },
  {
   "cell_type": "code",
   "execution_count": 95,
   "metadata": {},
   "outputs": [],
   "source": [
    "rfc_pred = best_rfc.predict(features_test)"
   ]
  },
  {
   "cell_type": "code",
   "execution_count": 96,
   "metadata": {},
   "outputs": [
    {
     "name": "stdout",
     "output_type": "stream",
     "text": [
      "===============================================================\n",
      "Random Forest - Reporte de clasificación del conjunto de testeo\n",
      "===============================================================\n",
      "              precision    recall  f1-score   support\n",
      "\n",
      "    negative       0.70      0.33      0.45       120\n",
      "     neutral       0.72      0.92      0.81       575\n",
      "    positive       0.63      0.40      0.49       273\n",
      "\n",
      "    accuracy                           0.70       968\n",
      "   macro avg       0.68      0.55      0.58       968\n",
      "weighted avg       0.69      0.70      0.67       968\n",
      "\n"
     ]
    }
   ],
   "source": [
    "text = \"Random Forest - Reporte de clasificación del conjunto de testeo\"\n",
    "print(len(text)*\"=\")\n",
    "print(text)\n",
    "print(len(text)*\"=\")\n",
    "\n",
    "print(classification_report(labels_test,rfc_pred))"
   ]
  },
  {
   "cell_type": "markdown",
   "metadata": {},
   "source": [
    "## BayesSearch"
   ]
  },
  {
   "cell_type": "code",
   "execution_count": 97,
   "metadata": {},
   "outputs": [],
   "source": [
    "param_bayes_rfc = {\n",
    "    'max_depth': Integer(10, 75),\n",
    "    'criterion':Categorical(['gini', 'entropy']),\n",
    "    'min_samples_split': Integer(2, 15),\n",
    "    'min_samples_leaf':Integer(1, 10),\n",
    "    'n_estimators': Integer(5, 60)\n",
    "   \n",
    "}"
   ]
  },
  {
   "cell_type": "code",
   "execution_count": 98,
   "metadata": {},
   "outputs": [
    {
     "name": "stderr",
     "output_type": "stream",
     "text": [
      "C:\\Users\\Pame\\anaconda3\\envs\\diplo\\lib\\site-packages\\skopt\\optimizer\\optimizer.py:449: UserWarning: The objective has been evaluated at this point before.\n",
      "  warnings.warn(\"The objective has been evaluated \"\n",
      "C:\\Users\\Pame\\anaconda3\\envs\\diplo\\lib\\site-packages\\skopt\\optimizer\\optimizer.py:449: UserWarning: The objective has been evaluated at this point before.\n",
      "  warnings.warn(\"The objective has been evaluated \"\n",
      "C:\\Users\\Pame\\anaconda3\\envs\\diplo\\lib\\site-packages\\skopt\\optimizer\\optimizer.py:449: UserWarning: The objective has been evaluated at this point before.\n",
      "  warnings.warn(\"The objective has been evaluated \"\n",
      "C:\\Users\\Pame\\anaconda3\\envs\\diplo\\lib\\site-packages\\skopt\\optimizer\\optimizer.py:449: UserWarning: The objective has been evaluated at this point before.\n",
      "  warnings.warn(\"The objective has been evaluated \"\n"
     ]
    },
    {
     "data": {
      "text/plain": [
       "BayesSearchCV(cv=3, estimator=RandomForestClassifier(random_state=42),\n",
       "              scoring=make_scorer(f1_score, average=macro),\n",
       "              search_spaces={'criterion': Categorical(categories=('gini', 'entropy'), prior=None),\n",
       "                             'max_depth': Integer(low=10, high=75, prior='uniform', transform='identity'),\n",
       "                             'min_samples_leaf': Integer(low=1, high=10, prior='uniform', transform='identity'),\n",
       "                             'min_samples_split': Integer(low=2, high=15, prior='uniform', transform='identity'),\n",
       "                             'n_estimators': Integer(low=5, high=60, prior='uniform', transform='identity')})"
      ]
     },
     "execution_count": 98,
     "metadata": {},
     "output_type": "execute_result"
    }
   ],
   "source": [
    "from sklearn.ensemble import RandomForestClassifier\n",
    "from sklearn.metrics import classification_report, confusion_matrix, accuracy_score, plot_confusion_matrix,f1_score, make_scorer\n",
    "\n",
    "# First create the base model to tune\n",
    "rfc = RandomForestClassifier(random_state=42)\n",
    "scorer = make_scorer(f1_score, average = \"macro\")\n",
    "\n",
    "# Definition of the random search\n",
    "bayes_search = BayesSearchCV(rfc,\n",
    "                             param_bayes_rfc,\n",
    "                             scoring= scorer,\n",
    "                             cv=3)\n",
    "\n",
    "# Fit the random search model\n",
    "bayes_search.fit(features_train, labels_train)"
   ]
  },
  {
   "cell_type": "code",
   "execution_count": 99,
   "metadata": {},
   "outputs": [
    {
     "data": {
      "text/plain": [
       "RandomForestClassifier(criterion='entropy', max_depth=75, n_estimators=60,\n",
       "                       random_state=42)"
      ]
     },
     "execution_count": 99,
     "metadata": {},
     "output_type": "execute_result"
    }
   ],
   "source": [
    "bayes_search.best_estimator_"
   ]
  },
  {
   "cell_type": "code",
   "execution_count": 100,
   "metadata": {},
   "outputs": [],
   "source": [
    "best_rfc = bayes_search.best_estimator_"
   ]
  },
  {
   "cell_type": "code",
   "execution_count": 101,
   "metadata": {},
   "outputs": [
    {
     "data": {
      "text/plain": [
       "RandomForestClassifier(criterion='entropy', max_depth=75, n_estimators=60,\n",
       "                       random_state=42)"
      ]
     },
     "execution_count": 101,
     "metadata": {},
     "output_type": "execute_result"
    }
   ],
   "source": [
    "best_rfc.fit(features_train, labels_train)"
   ]
  },
  {
   "cell_type": "code",
   "execution_count": 102,
   "metadata": {},
   "outputs": [],
   "source": [
    "rfc_pred = best_rfc.predict(features_test)"
   ]
  },
  {
   "cell_type": "code",
   "execution_count": 103,
   "metadata": {},
   "outputs": [
    {
     "name": "stdout",
     "output_type": "stream",
     "text": [
      "===============================================================\n",
      "Random Forest - Reporte de clasificación del conjunto de testeo\n",
      "===============================================================\n",
      "              precision    recall  f1-score   support\n",
      "\n",
      "    negative       0.64      0.35      0.45       120\n",
      "     neutral       0.72      0.90      0.80       575\n",
      "    positive       0.62      0.41      0.49       273\n",
      "\n",
      "    accuracy                           0.69       968\n",
      "   macro avg       0.66      0.55      0.58       968\n",
      "weighted avg       0.68      0.69      0.67       968\n",
      "\n"
     ]
    }
   ],
   "source": [
    "text = \"Random Forest - Reporte de clasificación del conjunto de testeo\"\n",
    "print(len(text)*\"=\")\n",
    "print(text)\n",
    "print(len(text)*\"=\")\n",
    "\n",
    "print(classification_report(labels_test,rfc_pred))"
   ]
  },
  {
   "cell_type": "markdown",
   "metadata": {},
   "source": [
    "## KNeighborsClassifier"
   ]
  },
  {
   "cell_type": "code",
   "execution_count": 105,
   "metadata": {},
   "outputs": [],
   "source": [
    "from sklearn.neighbors import KNeighborsClassifier\n",
    "\n",
    "params = {\n",
    "    \"n_neighbors\": [1,5,15,20],\n",
    "    \"weights\": [\"uniform\", \"distance\"],\n",
    "    \"algorithm\":[\"auto\", \"ball_tree\", \"kd_tree\", \"brute\"]\n",
    "}\n",
    "\n",
    "knn = KNeighborsClassifier()\n",
    "knn_clf= GridSearchCV(knn, params, cv=3, scoring='f1_macro', n_jobs=-1)\n",
    "knn_clf.fit(features_train, labels_train)\n",
    "\n",
    "best_knn = knn_clf.best_estimator_"
   ]
  },
  {
   "cell_type": "code",
   "execution_count": 106,
   "metadata": {},
   "outputs": [
    {
     "name": "stdout",
     "output_type": "stream",
     "text": [
      "KNeighborsClassifier(weights='distance')\n"
     ]
    }
   ],
   "source": [
    "print(best_knn)"
   ]
  },
  {
   "cell_type": "code",
   "execution_count": 107,
   "metadata": {},
   "outputs": [
    {
     "name": "stdout",
     "output_type": "stream",
     "text": [
      "=====================================================\n",
      "KNN - Reporte de clasificación del conjunto de testeo\n",
      "=====================================================\n",
      "              precision    recall  f1-score   support\n",
      "\n",
      "    negative       0.56      0.38      0.46       120\n",
      "     neutral       0.72      0.90      0.80       575\n",
      "    positive       0.62      0.37      0.47       273\n",
      "\n",
      "    accuracy                           0.69       968\n",
      "   macro avg       0.63      0.55      0.57       968\n",
      "weighted avg       0.67      0.69      0.66       968\n",
      "\n"
     ]
    }
   ],
   "source": [
    "text = \"KNN - Reporte de clasificación del conjunto de testeo\"\n",
    "print(len(text)*\"=\")\n",
    "print(text)\n",
    "print(len(text)*\"=\")\n",
    "\n",
    "print(classification_report(labels_test, best_knn.predict(features_test)))"
   ]
  },
  {
   "cell_type": "markdown",
   "metadata": {},
   "source": [
    "## BayesSearch"
   ]
  },
  {
   "cell_type": "code",
   "execution_count": 109,
   "metadata": {},
   "outputs": [
    {
     "name": "stderr",
     "output_type": "stream",
     "text": [
      "C:\\Users\\Pame\\anaconda3\\envs\\diplo\\lib\\site-packages\\skopt\\optimizer\\optimizer.py:449: UserWarning: The objective has been evaluated at this point before.\n",
      "  warnings.warn(\"The objective has been evaluated \"\n",
      "C:\\Users\\Pame\\anaconda3\\envs\\diplo\\lib\\site-packages\\skopt\\optimizer\\optimizer.py:449: UserWarning: The objective has been evaluated at this point before.\n",
      "  warnings.warn(\"The objective has been evaluated \"\n",
      "C:\\Users\\Pame\\anaconda3\\envs\\diplo\\lib\\site-packages\\skopt\\optimizer\\optimizer.py:449: UserWarning: The objective has been evaluated at this point before.\n",
      "  warnings.warn(\"The objective has been evaluated \"\n",
      "C:\\Users\\Pame\\anaconda3\\envs\\diplo\\lib\\site-packages\\skopt\\optimizer\\optimizer.py:449: UserWarning: The objective has been evaluated at this point before.\n",
      "  warnings.warn(\"The objective has been evaluated \"\n",
      "C:\\Users\\Pame\\anaconda3\\envs\\diplo\\lib\\site-packages\\skopt\\optimizer\\optimizer.py:449: UserWarning: The objective has been evaluated at this point before.\n",
      "  warnings.warn(\"The objective has been evaluated \"\n",
      "C:\\Users\\Pame\\anaconda3\\envs\\diplo\\lib\\site-packages\\skopt\\optimizer\\optimizer.py:449: UserWarning: The objective has been evaluated at this point before.\n",
      "  warnings.warn(\"The objective has been evaluated \"\n",
      "C:\\Users\\Pame\\anaconda3\\envs\\diplo\\lib\\site-packages\\skopt\\optimizer\\optimizer.py:449: UserWarning: The objective has been evaluated at this point before.\n",
      "  warnings.warn(\"The objective has been evaluated \"\n",
      "C:\\Users\\Pame\\anaconda3\\envs\\diplo\\lib\\site-packages\\skopt\\optimizer\\optimizer.py:449: UserWarning: The objective has been evaluated at this point before.\n",
      "  warnings.warn(\"The objective has been evaluated \"\n",
      "C:\\Users\\Pame\\anaconda3\\envs\\diplo\\lib\\site-packages\\skopt\\optimizer\\optimizer.py:449: UserWarning: The objective has been evaluated at this point before.\n",
      "  warnings.warn(\"The objective has been evaluated \"\n",
      "C:\\Users\\Pame\\anaconda3\\envs\\diplo\\lib\\site-packages\\skopt\\optimizer\\optimizer.py:449: UserWarning: The objective has been evaluated at this point before.\n",
      "  warnings.warn(\"The objective has been evaluated \"\n",
      "C:\\Users\\Pame\\anaconda3\\envs\\diplo\\lib\\site-packages\\skopt\\optimizer\\optimizer.py:449: UserWarning: The objective has been evaluated at this point before.\n",
      "  warnings.warn(\"The objective has been evaluated \"\n",
      "C:\\Users\\Pame\\anaconda3\\envs\\diplo\\lib\\site-packages\\skopt\\optimizer\\optimizer.py:449: UserWarning: The objective has been evaluated at this point before.\n",
      "  warnings.warn(\"The objective has been evaluated \"\n",
      "C:\\Users\\Pame\\anaconda3\\envs\\diplo\\lib\\site-packages\\skopt\\optimizer\\optimizer.py:449: UserWarning: The objective has been evaluated at this point before.\n",
      "  warnings.warn(\"The objective has been evaluated \"\n"
     ]
    }
   ],
   "source": [
    "params_knn_bayes = {\n",
    "    \"n_neighbors\": Integer(1,20),\n",
    "    \"weights\": Categorical([\"uniform\", \"distance\"]),\n",
    "    \"algorithm\":Categorical([\"auto\", \"ball_tree\", \"kd_tree\", \"brute\"])\n",
    "}\n",
    "\n",
    "knn = KNeighborsClassifier()\n",
    "knn_clf_bayes= BayesSearchCV(knn, params_knn_bayes, cv=3, scoring='f1_macro', n_jobs=-1)\n",
    "knn_clf_bayes.fit(features_train, labels_train)\n",
    "\n",
    "best_knn_bayes = knn_clf_bayes.best_estimator_"
   ]
  },
  {
   "cell_type": "code",
   "execution_count": 110,
   "metadata": {},
   "outputs": [
    {
     "name": "stdout",
     "output_type": "stream",
     "text": [
      "KNeighborsClassifier(algorithm='kd_tree', n_neighbors=4, weights='distance')\n"
     ]
    }
   ],
   "source": [
    "print(best_knn_bayes)"
   ]
  },
  {
   "cell_type": "code",
   "execution_count": 111,
   "metadata": {},
   "outputs": [
    {
     "name": "stdout",
     "output_type": "stream",
     "text": [
      "=====================================================\n",
      "KNN - Reporte de clasificación del conjunto de testeo\n",
      "=====================================================\n",
      "              precision    recall  f1-score   support\n",
      "\n",
      "    negative       0.49      0.38      0.43       120\n",
      "     neutral       0.72      0.87      0.79       575\n",
      "    positive       0.59      0.37      0.46       273\n",
      "\n",
      "    accuracy                           0.67       968\n",
      "   macro avg       0.60      0.54      0.56       968\n",
      "weighted avg       0.65      0.67      0.65       968\n",
      "\n"
     ]
    }
   ],
   "source": [
    "text = \"KNN - Reporte de clasificación del conjunto de testeo\"\n",
    "print(len(text)*\"=\")\n",
    "print(text)\n",
    "print(len(text)*\"=\")\n",
    "\n",
    "print(classification_report(labels_test, best_knn_bayes.predict(features_test)))"
   ]
  },
  {
   "cell_type": "markdown",
   "metadata": {},
   "source": [
    "### Utilizando Tfidf, se obtuvo el valor más alto de F1=0.62 con SVM."
   ]
  }
 ],
 "metadata": {
  "colab": {
   "collapsed_sections": [],
   "name": "Introduccion Aprendizaje Supervisado - news_feeling.ipynb",
   "provenance": []
  },
  "kernelspec": {
   "display_name": "Python 3",
   "language": "python",
   "name": "python3"
  },
  "language_info": {
   "codemirror_mode": {
    "name": "ipython",
    "version": 3
   },
   "file_extension": ".py",
   "mimetype": "text/x-python",
   "name": "python",
   "nbconvert_exporter": "python",
   "pygments_lexer": "ipython3",
   "version": "3.9.5"
  },
  "toc": {
   "base_numbering": 1,
   "nav_menu": {},
   "number_sections": false,
   "sideBar": true,
   "skip_h1_title": false,
   "title_cell": "Table of Contents",
   "title_sidebar": "Contents",
   "toc_cell": false,
   "toc_position": {},
   "toc_section_display": true,
   "toc_window_display": false
  }
 },
 "nbformat": 4,
 "nbformat_minor": 1
}
