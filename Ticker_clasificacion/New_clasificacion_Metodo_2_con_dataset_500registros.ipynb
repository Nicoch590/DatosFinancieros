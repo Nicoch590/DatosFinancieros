{
 "cells": [
  {
   "cell_type": "markdown",
   "id": "1c4d5460",
   "metadata": {},
   "source": [
    "# Metodo 2: Vocabulario definido"
   ]
  },
  {
   "cell_type": "markdown",
   "id": "cad75fe4",
   "metadata": {},
   "source": [
    "Objetivo: clasificar las noticias en relacion a la compañia o ticker al cual hacen referencia.\n",
    "\n",
    "En esta notebook utilizamos el dataset 'news' preprocesado de la siguiente forma:\n",
    "\n",
    "     1 - Sobre el dataset original se realiza una reduccion teniendo en cuenta aquellos tickers que poseen mas de 500 registros, \n",
    "     con el objetivo eliminar los tickers que poseen pocos registros y tambien por cuestiones de memoria y procesamiento.\n",
    "     \n",
    "     2 - Con la idea de que una noticia que hace referencia a una compañia en particular debe mencionarla, se crea un vocabulario \n",
    "     que incluye ticker y nombre de compañia correspondiente a ese ticker.\n",
    "     \n",
    "     3 - Se aplica, sobre las columnas 'titulo' y 'contenido' del dataset original, una funcion que conserva solo las palabras \n",
    "     que estan incluidas en el vocabulario, obteniendose el dataset preprocesado."
   ]
  },
  {
   "cell_type": "code",
   "execution_count": 143,
   "id": "a0bd2fc6",
   "metadata": {},
   "outputs": [],
   "source": [
    "import numpy as np\n",
    "import matplotlib.pyplot as plt\n",
    "np.set_printoptions(precision=4,suppress=True)  # no usar notacion \"e\"\n",
    "import pandas as pd"
   ]
  },
  {
   "cell_type": "code",
   "execution_count": 144,
   "id": "e2876add",
   "metadata": {},
   "outputs": [],
   "source": [
    "df_preprocesado = pd.read_csv(\"Datasets/DataFrame_news_preprocesado_voc.csv\")"
   ]
  },
  {
   "cell_type": "code",
   "execution_count": 145,
   "id": "c4837df5",
   "metadata": {},
   "outputs": [],
   "source": [
    "df=df_preprocesado.copy()"
   ]
  },
  {
   "cell_type": "code",
   "execution_count": 146,
   "id": "b23e6119",
   "metadata": {
    "scrolled": false
   },
   "outputs": [
    {
     "data": {
      "text/html": [
       "<div>\n",
       "<style scoped>\n",
       "    .dataframe tbody tr th:only-of-type {\n",
       "        vertical-align: middle;\n",
       "    }\n",
       "\n",
       "    .dataframe tbody tr th {\n",
       "        vertical-align: top;\n",
       "    }\n",
       "\n",
       "    .dataframe thead th {\n",
       "        text-align: right;\n",
       "    }\n",
       "</style>\n",
       "<table border=\"1\" class=\"dataframe\">\n",
       "  <thead>\n",
       "    <tr style=\"text-align: right;\">\n",
       "      <th></th>\n",
       "      <th>id</th>\n",
       "      <th>ticker</th>\n",
       "      <th>title</th>\n",
       "      <th>title_features</th>\n",
       "      <th>content_features</th>\n",
       "      <th>category</th>\n",
       "      <th>release_date</th>\n",
       "      <th>provider</th>\n",
       "      <th>url</th>\n",
       "      <th>article_id</th>\n",
       "    </tr>\n",
       "  </thead>\n",
       "  <tbody>\n",
       "    <tr>\n",
       "      <th>0</th>\n",
       "      <td>221591</td>\n",
       "      <td>UBER</td>\n",
       "      <td>Uber Aims At Divesting Indian Food Delivery Un...</td>\n",
       "      <td>Uber</td>\n",
       "      <td>Uber Technologies Inc UBER business In Uber Ub...</td>\n",
       "      <td>opinion</td>\n",
       "      <td>2020-01-22</td>\n",
       "      <td>Zacks Investment Research</td>\n",
       "      <td>https://www.investing.com/analysis/uber-aims-a...</td>\n",
       "      <td>200500218</td>\n",
       "    </tr>\n",
       "    <tr>\n",
       "      <th>1</th>\n",
       "      <td>221592</td>\n",
       "      <td>UBER</td>\n",
       "      <td>Starbucks Vs McDonald s  Which Is A Better Res...</td>\n",
       "      <td>Starbucks A</td>\n",
       "      <td>Uber UBER In Starbucks SBUX Starbucks Starbuck...</td>\n",
       "      <td>opinion</td>\n",
       "      <td>2020-01-12</td>\n",
       "      <td>Zacks Investment Research</td>\n",
       "      <td>https://www.investing.com/analysis/starbucks-v...</td>\n",
       "      <td>200498322</td>\n",
       "    </tr>\n",
       "    <tr>\n",
       "      <th>2</th>\n",
       "      <td>221593</td>\n",
       "      <td>UBER</td>\n",
       "      <td>The Zacks Analyst Blog Highlights  Advanced Mi...</td>\n",
       "      <td>Intel Uber</td>\n",
       "      <td>news Intel INTC Uber UBER technology In Intel ...</td>\n",
       "      <td>opinion</td>\n",
       "      <td>2020-01-12</td>\n",
       "      <td>Zacks Investment Research</td>\n",
       "      <td>https://www.investing.com/analysis/the-zacks-a...</td>\n",
       "      <td>200498277</td>\n",
       "    </tr>\n",
       "    <tr>\n",
       "      <th>3</th>\n",
       "      <td>221594</td>\n",
       "      <td>UBER</td>\n",
       "      <td>Top Research Reports For UnitedHealth  CVS   M...</td>\n",
       "      <td>Morgan Stanley</td>\n",
       "      <td>Group Health Morgan Stanley MS MS Group techno...</td>\n",
       "      <td>opinion</td>\n",
       "      <td>2020-01-13</td>\n",
       "      <td>Zacks Investment Research</td>\n",
       "      <td>https://www.investing.com/analysis/top-researc...</td>\n",
       "      <td>200498433</td>\n",
       "    </tr>\n",
       "    <tr>\n",
       "      <th>4</th>\n",
       "      <td>221595</td>\n",
       "      <td>UBER</td>\n",
       "      <td>The Zacks Analyst Blog Highlights  UnitedHealt...</td>\n",
       "      <td>Health Morgan Stanley Uber Technologies</td>\n",
       "      <td>news Group Health Morgan Stanley MS Uber Techn...</td>\n",
       "      <td>opinion</td>\n",
       "      <td>2020-01-13</td>\n",
       "      <td>Zacks Investment Research</td>\n",
       "      <td>https://www.investing.com/analysis/the-zacks-a...</td>\n",
       "      <td>200498650</td>\n",
       "    </tr>\n",
       "  </tbody>\n",
       "</table>\n",
       "</div>"
      ],
      "text/plain": [
       "       id ticker                                              title  \\\n",
       "0  221591   UBER  Uber Aims At Divesting Indian Food Delivery Un...   \n",
       "1  221592   UBER  Starbucks Vs McDonald s  Which Is A Better Res...   \n",
       "2  221593   UBER  The Zacks Analyst Blog Highlights  Advanced Mi...   \n",
       "3  221594   UBER  Top Research Reports For UnitedHealth  CVS   M...   \n",
       "4  221595   UBER  The Zacks Analyst Blog Highlights  UnitedHealt...   \n",
       "\n",
       "                            title_features  \\\n",
       "0                                     Uber   \n",
       "1                              Starbucks A   \n",
       "2                               Intel Uber   \n",
       "3                           Morgan Stanley   \n",
       "4  Health Morgan Stanley Uber Technologies   \n",
       "\n",
       "                                    content_features category release_date  \\\n",
       "0  Uber Technologies Inc UBER business In Uber Ub...  opinion   2020-01-22   \n",
       "1  Uber UBER In Starbucks SBUX Starbucks Starbuck...  opinion   2020-01-12   \n",
       "2  news Intel INTC Uber UBER technology In Intel ...  opinion   2020-01-12   \n",
       "3  Group Health Morgan Stanley MS MS Group techno...  opinion   2020-01-13   \n",
       "4  news Group Health Morgan Stanley MS Uber Techn...  opinion   2020-01-13   \n",
       "\n",
       "                    provider  \\\n",
       "0  Zacks Investment Research   \n",
       "1  Zacks Investment Research   \n",
       "2  Zacks Investment Research   \n",
       "3  Zacks Investment Research   \n",
       "4  Zacks Investment Research   \n",
       "\n",
       "                                                 url  article_id  \n",
       "0  https://www.investing.com/analysis/uber-aims-a...   200500218  \n",
       "1  https://www.investing.com/analysis/starbucks-v...   200498322  \n",
       "2  https://www.investing.com/analysis/the-zacks-a...   200498277  \n",
       "3  https://www.investing.com/analysis/top-researc...   200498433  \n",
       "4  https://www.investing.com/analysis/the-zacks-a...   200498650  "
      ]
     },
     "execution_count": 146,
     "metadata": {},
     "output_type": "execute_result"
    }
   ],
   "source": [
    "df.head()"
   ]
  },
  {
   "cell_type": "markdown",
   "id": "6dfad0d0",
   "metadata": {},
   "source": [
    "Observamos la cantidad de registros que existen para cada ticker es mayor a 500, debido a preprocesamiento"
   ]
  },
  {
   "cell_type": "code",
   "execution_count": 147,
   "id": "a71992cf",
   "metadata": {
    "scrolled": true
   },
   "outputs": [
    {
     "data": {
      "text/plain": [
       "AAPL    20231\n",
       "MSFT     8110\n",
       "BAC      7408\n",
       "AMZN     6330\n",
       "NWSA     5914\n",
       "        ...  \n",
       "ADP       543\n",
       "JWN       540\n",
       "BHC       526\n",
       "AVGO      517\n",
       "NLOK      513\n",
       "Name: ticker, Length: 63, dtype: int64"
      ]
     },
     "execution_count": 147,
     "metadata": {},
     "output_type": "execute_result"
    }
   ],
   "source": [
    "df.ticker.value_counts()"
   ]
  },
  {
   "cell_type": "code",
   "execution_count": 9,
   "id": "102781c4",
   "metadata": {},
   "outputs": [
    {
     "name": "stdout",
     "output_type": "stream",
     "text": [
      "<class 'pandas.core.frame.DataFrame'>\n",
      "RangeIndex: 134092 entries, 0 to 134091\n",
      "Data columns (total 10 columns):\n",
      " #   Column            Non-Null Count   Dtype \n",
      "---  ------            --------------   ----- \n",
      " 0   id                134092 non-null  int64 \n",
      " 1   ticker            134092 non-null  object\n",
      " 2   title             134092 non-null  object\n",
      " 3   title_features    59715 non-null   object\n",
      " 4   content_features  133497 non-null  object\n",
      " 5   category          134092 non-null  object\n",
      " 6   release_date      134092 non-null  object\n",
      " 7   provider          134092 non-null  object\n",
      " 8   url               134092 non-null  object\n",
      " 9   article_id        134092 non-null  int64 \n",
      "dtypes: int64(2), object(8)\n",
      "memory usage: 10.2+ MB\n"
     ]
    }
   ],
   "source": [
    "df.info()"
   ]
  },
  {
   "cell_type": "code",
   "execution_count": 152,
   "id": "77bc99c1",
   "metadata": {},
   "outputs": [],
   "source": [
    "df_sample=df.copy()"
   ]
  },
  {
   "cell_type": "markdown",
   "id": "80efcee0",
   "metadata": {},
   "source": [
    "Para poder concatenar las columnas antes de ingresar a Countvectorizer, es necesario que no existan valores NaN, rellenamos estos valores con espacios vacios."
   ]
  },
  {
   "cell_type": "code",
   "execution_count": 153,
   "id": "8aeff509",
   "metadata": {},
   "outputs": [],
   "source": [
    "df_sample = df_sample.fillna(' ')"
   ]
  },
  {
   "cell_type": "code",
   "execution_count": 154,
   "id": "d7e7657f",
   "metadata": {
    "scrolled": true
   },
   "outputs": [
    {
     "name": "stdout",
     "output_type": "stream",
     "text": [
      "<class 'pandas.core.frame.DataFrame'>\n",
      "RangeIndex: 134092 entries, 0 to 134091\n",
      "Data columns (total 10 columns):\n",
      " #   Column            Non-Null Count   Dtype \n",
      "---  ------            --------------   ----- \n",
      " 0   id                134092 non-null  int64 \n",
      " 1   ticker            134092 non-null  object\n",
      " 2   title             134092 non-null  object\n",
      " 3   title_features    134092 non-null  object\n",
      " 4   content_features  134092 non-null  object\n",
      " 5   category          134092 non-null  object\n",
      " 6   release_date      134092 non-null  object\n",
      " 7   provider          134092 non-null  object\n",
      " 8   url               134092 non-null  object\n",
      " 9   article_id        134092 non-null  int64 \n",
      "dtypes: int64(2), object(8)\n",
      "memory usage: 10.2+ MB\n"
     ]
    }
   ],
   "source": [
    "df_sample.info()"
   ]
  },
  {
   "cell_type": "markdown",
   "id": "ab929273",
   "metadata": {},
   "source": [
    "Concatenamos los valores de las columnas seleccionadas"
   ]
  },
  {
   "cell_type": "code",
   "execution_count": 155,
   "id": "60cbd947",
   "metadata": {},
   "outputs": [],
   "source": [
    "X=df_sample['title_features']+' '+df_sample['content_features']+' '+df_sample['category']+' '+df_sample['provider']\n",
    "y=df_sample['ticker']"
   ]
  },
  {
   "cell_type": "markdown",
   "id": "2dc8770f",
   "metadata": {},
   "source": [
    "## Division entrenamiento y test"
   ]
  },
  {
   "cell_type": "code",
   "execution_count": 156,
   "id": "8904391d",
   "metadata": {},
   "outputs": [],
   "source": [
    "from sklearn.model_selection import train_test_split\n",
    "\n",
    "X_train, X_test, y_train, y_test = train_test_split(X, y, train_size=0.8, random_state=0)"
   ]
  },
  {
   "cell_type": "code",
   "execution_count": 157,
   "id": "2c714d8f",
   "metadata": {},
   "outputs": [
    {
     "data": {
      "text/plain": [
       "((107273,), (26819,))"
      ]
     },
     "execution_count": 157,
     "metadata": {},
     "output_type": "execute_result"
    }
   ],
   "source": [
    "X_train.shape , X_test.shape"
   ]
  },
  {
   "cell_type": "code",
   "execution_count": 158,
   "id": "8c50f2b5",
   "metadata": {},
   "outputs": [
    {
     "data": {
      "text/plain": [
       "((107273,), (26819,))"
      ]
     },
     "execution_count": 158,
     "metadata": {},
     "output_type": "execute_result"
    }
   ],
   "source": [
    "y_train.shape,y_test.shape"
   ]
  },
  {
   "cell_type": "code",
   "execution_count": 159,
   "id": "dc49bffd",
   "metadata": {},
   "outputs": [
    {
     "data": {
      "text/plain": [
       "Series([], dtype: object)"
      ]
     },
     "execution_count": 159,
     "metadata": {},
     "output_type": "execute_result"
    }
   ],
   "source": [
    "X_train[X_train.isna()]"
   ]
  },
  {
   "cell_type": "markdown",
   "id": "f9cd2da1",
   "metadata": {},
   "source": [
    "## Preprocesamiento con Countvectorizer"
   ]
  },
  {
   "cell_type": "code",
   "execution_count": 160,
   "id": "849393c9",
   "metadata": {},
   "outputs": [],
   "source": [
    "from sklearn.feature_extraction.text import CountVectorizer\n",
    "\n",
    "vect = CountVectorizer()"
   ]
  },
  {
   "cell_type": "code",
   "execution_count": 161,
   "id": "81c4553a",
   "metadata": {},
   "outputs": [],
   "source": [
    "vect.fit(X_train)\n",
    "V_X_train=vect.transform(X_train)\n",
    "V_X_test=vect.transform(X_test)"
   ]
  },
  {
   "cell_type": "code",
   "execution_count": 162,
   "id": "f31f7822",
   "metadata": {},
   "outputs": [
    {
     "data": {
      "text/plain": [
       "((107273, 1433), (26819, 1433))"
      ]
     },
     "execution_count": 162,
     "metadata": {},
     "output_type": "execute_result"
    }
   ],
   "source": [
    "V_X_train.shape , V_X_test.shape"
   ]
  },
  {
   "cell_type": "markdown",
   "id": "243e249b",
   "metadata": {},
   "source": [
    "## Modelos"
   ]
  },
  {
   "cell_type": "markdown",
   "id": "a6b6f9fc",
   "metadata": {},
   "source": [
    "### Modelo Naive - Bayes"
   ]
  },
  {
   "cell_type": "markdown",
   "id": "5f644e33",
   "metadata": {},
   "source": [
    "Entrenamos el modelo Naive-Bayes y observamos los acuraccy sobre los conjuntos de Train y Test"
   ]
  },
  {
   "cell_type": "code",
   "execution_count": 92,
   "id": "b02cab15",
   "metadata": {},
   "outputs": [
    {
     "data": {
      "text/plain": [
       "MultinomialNB()"
      ]
     },
     "execution_count": 92,
     "metadata": {},
     "output_type": "execute_result"
    }
   ],
   "source": [
    "from sklearn.naive_bayes import MultinomialNB\n",
    "mnb = MultinomialNB()\n",
    "mnb.fit(V_X_train, y_train)"
   ]
  },
  {
   "cell_type": "code",
   "execution_count": 103,
   "id": "c05bcc40",
   "metadata": {},
   "outputs": [],
   "source": [
    "y_predict_mnb_train = mnb.predict(V_X_train)\n",
    "y_predict_mnb_test = mnb.predict(V_X_test)"
   ]
  },
  {
   "cell_type": "code",
   "execution_count": 105,
   "id": "fa700573",
   "metadata": {},
   "outputs": [
    {
     "name": "stdout",
     "output_type": "stream",
     "text": [
      "0.7775395486282662\n",
      "0.7748238189343376\n"
     ]
    }
   ],
   "source": [
    "from sklearn.metrics import accuracy_score\n",
    "\n",
    "print(accuracy_score(y_train, y_predict_mnb_train))\n",
    "print(accuracy_score(y_test, y_predict_mnb_test))"
   ]
  },
  {
   "cell_type": "markdown",
   "id": "f3023716",
   "metadata": {},
   "source": [
    "### Modelos lineales"
   ]
  },
  {
   "cell_type": "markdown",
   "id": "a2efc672",
   "metadata": {},
   "source": [
    "Entrenamos modelos lineales, utilizando la busqueda aleatoria para encontrar los mejores hiperparametros"
   ]
  },
  {
   "cell_type": "markdown",
   "id": "130b3b2b",
   "metadata": {},
   "source": [
    "Para utilizar modelos lineales es necesario que los datos hayan sido previamente escalados, utilizamos MaxAbsScaler por ser un escalador que funciona con matrices esparsas."
   ]
  },
  {
   "cell_type": "code",
   "execution_count": 164,
   "id": "d5898b2d",
   "metadata": {},
   "outputs": [],
   "source": [
    "from sklearn.preprocessing import MaxAbsScaler\n",
    "\n",
    "scaler = MaxAbsScaler()\n",
    "V_X_train_scaled = scaler.fit_transform(V_X_train)"
   ]
  },
  {
   "cell_type": "code",
   "execution_count": 165,
   "id": "8d019cda",
   "metadata": {},
   "outputs": [],
   "source": [
    "#from sklearn.preprocessing import StandardScaler\n",
    "\n",
    "#scaler = StandardScaler()\n",
    "#V_X_train_scaled = scaler.fit_transform(V_X_train)\n",
    "#print(V_X_train_scaled)"
   ]
  },
  {
   "cell_type": "markdown",
   "id": "98991527",
   "metadata": {},
   "source": [
    "Utilizamos SGDClassifier para probar modelos lineales, y RandomizedSearchCV, para probar hiperparametros de manera aleatoria y realizar Cross-Validation."
   ]
  },
  {
   "cell_type": "code",
   "execution_count": 179,
   "id": "b4f12bbf",
   "metadata": {},
   "outputs": [],
   "source": [
    "from sklearn.utils.fixes import loguniform\n",
    "from scipy import stats\n",
    "\n",
    "param_dist = {\n",
    "    'loss': [\n",
    "        'hinge',        # SVM\n",
    "        'log',          # logistic regression\n",
    "        #'preceptron',  # perceptron (not supported)\n",
    "    ],\n",
    "    'alpha': loguniform(1e-8, 1e2),  # \n",
    "}"
   ]
  },
  {
   "cell_type": "code",
   "execution_count": 180,
   "id": "49e6e1f3",
   "metadata": {},
   "outputs": [],
   "source": [
    "from sklearn.linear_model import SGDClassifier\n",
    "from sklearn.model_selection import RandomizedSearchCV\n",
    "\n",
    "model = SGDClassifier(random_state=0)\n",
    "\n",
    "cv = RandomizedSearchCV(model, param_dist, n_iter=20, cv=3, random_state=0)\n",
    "cv.fit(V_X_train_scaled, y_train);"
   ]
  },
  {
   "cell_type": "code",
   "execution_count": 204,
   "id": "f4fce755",
   "metadata": {
    "scrolled": true
   },
   "outputs": [
    {
     "data": {
      "text/html": [
       "<div>\n",
       "<style scoped>\n",
       "    .dataframe tbody tr th:only-of-type {\n",
       "        vertical-align: middle;\n",
       "    }\n",
       "\n",
       "    .dataframe tbody tr th {\n",
       "        vertical-align: top;\n",
       "    }\n",
       "\n",
       "    .dataframe thead th {\n",
       "        text-align: right;\n",
       "    }\n",
       "</style>\n",
       "<table border=\"1\" class=\"dataframe\">\n",
       "  <thead>\n",
       "    <tr style=\"text-align: right;\">\n",
       "      <th></th>\n",
       "      <th>param_loss</th>\n",
       "      <th>param_alpha</th>\n",
       "      <th>mean_test_score</th>\n",
       "      <th>std_test_score</th>\n",
       "      <th>rank_test_score</th>\n",
       "    </tr>\n",
       "  </thead>\n",
       "  <tbody>\n",
       "    <tr>\n",
       "      <th>4</th>\n",
       "      <td>log</td>\n",
       "      <td>0.000172404</td>\n",
       "      <td>0.400390</td>\n",
       "      <td>0.004346</td>\n",
       "      <td>5</td>\n",
       "    </tr>\n",
       "    <tr>\n",
       "      <th>9</th>\n",
       "      <td>log</td>\n",
       "      <td>6.82991e-05</td>\n",
       "      <td>0.536155</td>\n",
       "      <td>0.001316</td>\n",
       "      <td>4</td>\n",
       "    </tr>\n",
       "    <tr>\n",
       "      <th>14</th>\n",
       "      <td>log</td>\n",
       "      <td>5.13287e-08</td>\n",
       "      <td>0.805263</td>\n",
       "      <td>0.013901</td>\n",
       "      <td>2</td>\n",
       "    </tr>\n",
       "    <tr>\n",
       "      <th>15</th>\n",
       "      <td>log</td>\n",
       "      <td>7.43521e-08</td>\n",
       "      <td>0.813000</td>\n",
       "      <td>0.015333</td>\n",
       "      <td>1</td>\n",
       "    </tr>\n",
       "    <tr>\n",
       "      <th>16</th>\n",
       "      <td>log</td>\n",
       "      <td>1.59288e-08</td>\n",
       "      <td>0.749900</td>\n",
       "      <td>0.042043</td>\n",
       "      <td>3</td>\n",
       "    </tr>\n",
       "  </tbody>\n",
       "</table>\n",
       "</div>"
      ],
      "text/plain": [
       "   param_loss  param_alpha  mean_test_score  std_test_score  rank_test_score\n",
       "4         log  0.000172404         0.400390        0.004346                5\n",
       "9         log  6.82991e-05         0.536155        0.001316                4\n",
       "14        log  5.13287e-08         0.805263        0.013901                2\n",
       "15        log  7.43521e-08         0.813000        0.015333                1\n",
       "16        log  1.59288e-08         0.749900        0.042043                3"
      ]
     },
     "execution_count": 204,
     "metadata": {},
     "output_type": "execute_result"
    }
   ],
   "source": [
    "import pandas as pd\n",
    "results = cv.cv_results_\n",
    "df_result_lineal = pd.DataFrame(results)\n",
    "df_result_lineal[df_result_lineal.rank_test_score<6][['param_loss', 'param_alpha', 'mean_test_score', 'std_test_score', 'rank_test_score']]"
   ]
  },
  {
   "cell_type": "code",
   "execution_count": 169,
   "id": "83d78999",
   "metadata": {},
   "outputs": [
    {
     "data": {
      "text/plain": [
       "{'alpha': 3.222938194971138e-07, 'loss': 'log'}"
      ]
     },
     "execution_count": 169,
     "metadata": {},
     "output_type": "execute_result"
    }
   ],
   "source": [
    "cv.best_params_"
   ]
  },
  {
   "cell_type": "markdown",
   "id": "c986e6bc",
   "metadata": {},
   "source": [
    "### Random Forest"
   ]
  },
  {
   "cell_type": "markdown",
   "id": "32b9bb40",
   "metadata": {},
   "source": [
    "Probamos Random Forest con algunos hiperparametros"
   ]
  },
  {
   "cell_type": "code",
   "execution_count": 193,
   "id": "645d10fb",
   "metadata": {},
   "outputs": [],
   "source": [
    "param_grid_rf = {\n",
    "    'criterion': ['gini', 'entropy'],\n",
    "    'n_estimators': [10,20]\n",
    "}"
   ]
  },
  {
   "cell_type": "code",
   "execution_count": 194,
   "id": "5948c741",
   "metadata": {},
   "outputs": [
    {
     "data": {
      "text/plain": [
       "GridSearchCV(cv=3, estimator=RandomForestClassifier(random_state=0),\n",
       "             param_grid={'criterion': ['gini', 'entropy'],\n",
       "                         'n_estimators': [10, 20]},\n",
       "             scoring='accuracy')"
      ]
     },
     "execution_count": 194,
     "metadata": {},
     "output_type": "execute_result"
    }
   ],
   "source": [
    "from sklearn.model_selection import GridSearchCV\n",
    "from sklearn import ensemble\n",
    "\n",
    "clf = ensemble.RandomForestClassifier(random_state=0)\n",
    "\n",
    "cv_rf = GridSearchCV(clf, param_grid_rf, scoring='accuracy', cv=3)\n",
    "cv_rf.fit(V_X_train, y_train)"
   ]
  },
  {
   "cell_type": "code",
   "execution_count": 195,
   "id": "f86012d9",
   "metadata": {
    "scrolled": true
   },
   "outputs": [
    {
     "name": "stdout",
     "output_type": "stream",
     "text": [
      "crit.\tdepth\t| mean\tstd\trank\n",
      "gini\t10\t| 0.90\t0.00\t2\n",
      "gini\t20\t| 0.91\t0.00\t1\n",
      "entropy\t10\t| 0.88\t0.00\t4\n",
      "entropy\t20\t| 0.89\t0.00\t3\n"
     ]
    }
   ],
   "source": [
    "results = cv_rf.cv_results_\n",
    "params = results['params']\n",
    "mean = results['mean_test_score']\n",
    "std = results['std_test_score']\n",
    "rank = results['rank_test_score']\n",
    "\n",
    "print(\"crit.\\tdepth\\t| mean\\tstd\\trank\")\n",
    "for p, m, s, r in zip(params, mean, std, rank):\n",
    "    print(f\"{p['criterion']}\\t{p['n_estimators']}\\t| {m:0.2f}\\t{s:0.2f}\\t{r}\")"
   ]
  },
  {
   "cell_type": "code",
   "execution_count": 199,
   "id": "b1cf71ff",
   "metadata": {
    "scrolled": true
   },
   "outputs": [
    {
     "data": {
      "text/plain": [
       "{'criterion': 'gini', 'n_estimators': 20}"
      ]
     },
     "execution_count": 199,
     "metadata": {},
     "output_type": "execute_result"
    }
   ],
   "source": [
    "cv_rf.best_params_"
   ]
  },
  {
   "cell_type": "code",
   "execution_count": 200,
   "id": "4428eb2c",
   "metadata": {},
   "outputs": [],
   "source": [
    "best_RF = cv_rf.best_estimator_"
   ]
  },
  {
   "cell_type": "code",
   "execution_count": 201,
   "id": "4394374a",
   "metadata": {},
   "outputs": [],
   "source": [
    "y_pred_RF_train = best_RF.predict(V_X_train)\n",
    "y_pred_RF_test = best_RF.predict(V_X_test)"
   ]
  },
  {
   "cell_type": "code",
   "execution_count": 202,
   "id": "479a7cd7",
   "metadata": {},
   "outputs": [
    {
     "name": "stdout",
     "output_type": "stream",
     "text": [
      "              precision    recall  f1-score   support\n",
      "\n",
      "          AA       1.00      1.00      1.00       836\n",
      "        AAPL       1.00      1.00      1.00     16240\n",
      "         ADP       1.00      1.00      1.00       433\n",
      "         AGN       0.98      0.97      0.98       672\n",
      "        AMGN       1.00      0.99      0.99       565\n",
      "        AMZN       0.99      0.99      0.99      5092\n",
      "        AVGO       1.00      0.98      0.99       410\n",
      "          BA       0.95      1.00      0.97      4691\n",
      "         BAC       1.00      1.00      1.00      5957\n",
      "         BHC       0.97      0.89      0.93       425\n",
      "         BKR       1.00      1.00      1.00       690\n",
      "         BLK       1.00      1.00      1.00       941\n",
      "           C       1.00      0.99      0.99      1677\n",
      "         CAJ       1.00      0.99      1.00       432\n",
      "         CAT       1.00      0.99      1.00       679\n",
      "         CME       1.00      1.00      1.00       919\n",
      "         CMG       1.00      1.00      1.00       812\n",
      "         CVX       1.00      0.99      0.99       873\n",
      "         DAL       1.00      1.00      1.00       473\n",
      "         DIS       1.00      1.00      1.00      2302\n",
      "         EFX       1.00      1.00      1.00       686\n",
      "       ENGIE       0.99      0.99      0.99       468\n",
      "         FCX       1.00      1.00      1.00       492\n",
      "         FDX       1.00      0.99      0.99       499\n",
      "          GE       1.00      0.99      1.00      1668\n",
      "          GM       1.00      1.00      1.00      1665\n",
      "       GOOGL       1.00      0.99      0.99      4155\n",
      "          GS       1.00      1.00      1.00      3624\n",
      "          HD       1.00      0.99      0.99       498\n",
      "         IBM       1.00      0.99      0.99      1001\n",
      "         ICE       1.00      1.00      1.00       498\n",
      "        INTC       1.00      0.99      0.99      2537\n",
      "         JNJ       1.00      0.99      0.99       622\n",
      "         JPM       1.00      0.99      1.00      2072\n",
      "         JWN       1.00      0.99      1.00       417\n",
      "          KO       0.99      0.99      0.99      1094\n",
      "         LMT       1.00      1.00      1.00       746\n",
      "         MRK       1.00      0.99      0.99       460\n",
      "          MS       1.00      0.99      0.99      1989\n",
      "        MSFT       1.00      1.00      1.00      6453\n",
      "          MU       1.00      1.00      1.00      1551\n",
      "        NFLX       0.99      1.00      0.99      3009\n",
      "         NKE       1.00      0.99      1.00       595\n",
      "        NLOK       0.98      0.90      0.94       402\n",
      "        NWSA       1.00      1.00      1.00      4667\n",
      "         PFE       0.99      0.97      0.98       427\n",
      "          PG       1.00      1.00      1.00       457\n",
      "         PGR       1.00      1.00      1.00       555\n",
      "        SBUX       1.00      0.99      0.99       690\n",
      "         SLB       1.00      1.00      1.00       635\n",
      "         SNE       0.99      0.98      0.99       455\n",
      "          SO       1.00      1.00      1.00       778\n",
      "           T       0.85      0.91      0.88       596\n",
      "         TGT       1.00      1.00      1.00      2942\n",
      "          TM       1.00      1.00      1.00      1485\n",
      "        TSLA       1.00      0.99      1.00      3457\n",
      "        UBER       1.00      1.00      1.00       975\n",
      "        UBSG       0.97      0.97      0.97       471\n",
      "          VZ       1.00      1.00      1.00       759\n",
      "         WFC       1.00      0.99      0.99      1093\n",
      "         WMB       1.00      1.00      1.00      1183\n",
      "         WMT       1.00      0.99      1.00      1037\n",
      "         XOM       1.00      0.99      0.99      2291\n",
      "\n",
      "    accuracy                           0.99    107273\n",
      "   macro avg       0.99      0.99      0.99    107273\n",
      "weighted avg       0.99      0.99      0.99    107273\n",
      "\n"
     ]
    }
   ],
   "source": [
    "from sklearn.metrics import classification_report\n",
    "\n",
    "print(classification_report(y_train, y_pred_RF_train))"
   ]
  },
  {
   "cell_type": "code",
   "execution_count": 206,
   "id": "ee5efc44",
   "metadata": {},
   "outputs": [
    {
     "name": "stdout",
     "output_type": "stream",
     "text": [
      "              precision    recall  f1-score   support\n",
      "\n",
      "          AA       0.94      0.89      0.91       243\n",
      "        AAPL       0.93      0.98      0.96      3991\n",
      "         ADP       0.94      0.84      0.88       110\n",
      "         AGN       0.87      0.69      0.77       151\n",
      "        AMGN       0.93      0.94      0.94       123\n",
      "        AMZN       0.92      0.93      0.93      1238\n",
      "        AVGO       0.99      0.89      0.94       107\n",
      "          BA       0.90      0.98      0.93      1188\n",
      "         BAC       0.90      0.95      0.93      1451\n",
      "         BHC       0.60      0.54      0.57       101\n",
      "         BKR       0.96      0.85      0.90       164\n",
      "         BLK       0.99      0.96      0.97       245\n",
      "           C       0.84      0.84      0.84       404\n",
      "         CAJ       0.96      0.84      0.90       114\n",
      "         CAT       0.87      0.81      0.84       193\n",
      "         CME       0.96      0.94      0.95       234\n",
      "         CMG       0.96      0.90      0.93       221\n",
      "         CVX       0.81      0.73      0.77       232\n",
      "         DAL       0.93      0.85      0.89       124\n",
      "         DIS       0.90      0.95      0.92       573\n",
      "         EFX       0.96      0.93      0.94       187\n",
      "       ENGIE       0.92      0.85      0.88       129\n",
      "         FCX       0.93      0.61      0.74       126\n",
      "         FDX       0.92      0.78      0.85       110\n",
      "          GE       0.92      0.89      0.90       377\n",
      "          GM       0.89      0.93      0.91       424\n",
      "       GOOGL       0.92      0.91      0.92      1016\n",
      "          GS       0.87      0.97      0.92       889\n",
      "          HD       0.87      0.84      0.85       116\n",
      "         IBM       0.92      0.80      0.85       248\n",
      "         ICE       0.99      0.90      0.94       132\n",
      "        INTC       0.92      0.92      0.92       651\n",
      "         JNJ       0.92      0.90      0.91       141\n",
      "         JPM       0.90      0.91      0.90       528\n",
      "         JWN       0.97      0.87      0.92       123\n",
      "          KO       0.91      0.76      0.83       273\n",
      "         LMT       0.97      0.95      0.96       191\n",
      "         MRK       0.90      0.95      0.92       115\n",
      "          MS       0.87      0.94      0.90       509\n",
      "        MSFT       0.94      0.96      0.95      1657\n",
      "          MU       0.96      0.95      0.96       376\n",
      "        NFLX       0.94      0.97      0.95       797\n",
      "         NKE       0.94      0.92      0.93       158\n",
      "        NLOK       0.39      0.14      0.20       111\n",
      "        NWSA       0.89      0.93      0.91      1247\n",
      "         PFE       0.94      0.88      0.91       118\n",
      "          PG       0.93      0.83      0.88       127\n",
      "         PGR       0.99      0.93      0.96       142\n",
      "        SBUX       0.91      0.92      0.91       155\n",
      "         SLB       0.97      0.75      0.85       153\n",
      "         SNE       0.76      0.49      0.59       129\n",
      "          SO       0.96      0.98      0.97       201\n",
      "           T       0.61      0.50      0.55       163\n",
      "         TGT       0.93      0.92      0.92       747\n",
      "          TM       0.93      0.83      0.88       335\n",
      "        TSLA       0.95      0.96      0.95       826\n",
      "        UBER       0.93      0.55      0.70       247\n",
      "        UBSG       0.87      0.75      0.81       121\n",
      "          VZ       0.92      0.96      0.94       182\n",
      "         WFC       0.95      0.95      0.95       266\n",
      "         WMB       0.98      0.99      0.99       299\n",
      "         WMT       0.91      0.81      0.86       230\n",
      "         XOM       0.83      0.87      0.85       540\n",
      "\n",
      "    accuracy                           0.91     26819\n",
      "   macro avg       0.90      0.85      0.87     26819\n",
      "weighted avg       0.91      0.91      0.91     26819\n",
      "\n"
     ]
    }
   ],
   "source": [
    "print(classification_report(y_test, y_pred_RF_test))"
   ]
  },
  {
   "cell_type": "markdown",
   "id": "6ca3d8c0",
   "metadata": {},
   "source": [
    "## Conclusion\n",
    "\n",
    "El modelo Random Forest con n=20 y criterio 'gini' es el que mejor resultados reporta tanto en entrenamiento como en test, obteniendo en test una accuracy de 0.91.\n"
   ]
  },
  {
   "cell_type": "code",
   "execution_count": null,
   "id": "759eb1bd",
   "metadata": {},
   "outputs": [],
   "source": []
  }
 ],
 "metadata": {
  "kernelspec": {
   "display_name": "Python [conda env:.conda-diplodatos-ayvd] *",
   "language": "python",
   "name": "conda-env-.conda-diplodatos-ayvd-py"
  },
  "language_info": {
   "codemirror_mode": {
    "name": "ipython",
    "version": 3
   },
   "file_extension": ".py",
   "mimetype": "text/x-python",
   "name": "python",
   "nbconvert_exporter": "python",
   "pygments_lexer": "ipython3",
   "version": "3.6.13"
  }
 },
 "nbformat": 4,
 "nbformat_minor": 5
}
