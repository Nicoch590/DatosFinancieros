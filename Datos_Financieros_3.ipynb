{
  "nbformat": 4,
  "nbformat_minor": 5,
  "metadata": {
    "kernelspec": {
      "display_name": "Python [conda env:.conda-diplodatos-ayvd] *",
      "language": "python",
      "name": "conda-env-.conda-diplodatos-ayvd-py"
    },
    "language_info": {
      "codemirror_mode": {
        "name": "ipython",
        "version": 3
      },
      "file_extension": ".py",
      "mimetype": "text/x-python",
      "name": "python",
      "nbconvert_exporter": "python",
      "pygments_lexer": "ipython3",
      "version": "3.6.13"
    },
    "colab": {
      "name": "Datos Financieros 3.ipynb",
      "provenance": [],
      "include_colab_link": true
    }
  },
  "cells": [
    {
      "cell_type": "markdown",
      "metadata": {
        "id": "view-in-github",
        "colab_type": "text"
      },
      "source": [
        "<a href=\"https://colab.research.google.com/github/Nicoch590/DatosFinancieros/blob/main/Datos_Financieros_3.ipynb\" target=\"_parent\"><img src=\"https://colab.research.google.com/assets/colab-badge.svg\" alt=\"Open In Colab\"/></a>"
      ]
    },
    {
      "cell_type": "code",
      "metadata": {
        "id": "d486252b"
      },
      "source": [
        "#import missingno as msno\n",
        "#msno.bar(df,figsize=(12, 6), fontsize=12, color='steelblue')"
      ],
      "id": "d486252b",
      "execution_count": 1,
      "outputs": []
    },
    {
      "cell_type": "code",
      "metadata": {
        "id": "1e2466ab"
      },
      "source": [
        "import io\n",
        "import matplotlib\n",
        "import matplotlib.pyplot as plt\n",
        "import numpy\n",
        "import pandas as pd\n",
        "import seaborn\n",
        "import scipy\n",
        "\n",
        "seaborn.set_context('talk')"
      ],
      "id": "1e2466ab",
      "execution_count": 2,
      "outputs": []
    },
    {
      "cell_type": "code",
      "metadata": {
        "colab": {
          "base_uri": "https://localhost:8080/",
          "height": 322
        },
        "id": "44bdc0a9",
        "outputId": "f9c5c2f1-bd3a-4f41-c5a8-a5086ffdb9b8"
      },
      "source": [
        "df = pd.read_csv('https://raw.githubusercontent.com/Nicoch590/DatosFinancieros/main/datos_financieros_reducidos.csv',index_col=[0])\n",
        "df.head()"
      ],
      "id": "44bdc0a9",
      "execution_count": 3,
      "outputs": [
        {
          "output_type": "execute_result",
          "data": {
            "text/html": [
              "<div>\n",
              "<style scoped>\n",
              "    .dataframe tbody tr th:only-of-type {\n",
              "        vertical-align: middle;\n",
              "    }\n",
              "\n",
              "    .dataframe tbody tr th {\n",
              "        vertical-align: top;\n",
              "    }\n",
              "\n",
              "    .dataframe thead th {\n",
              "        text-align: right;\n",
              "    }\n",
              "</style>\n",
              "<table border=\"1\" class=\"dataframe\">\n",
              "  <thead>\n",
              "    <tr style=\"text-align: right;\">\n",
              "      <th></th>\n",
              "      <th>Ticker</th>\n",
              "      <th>Revenue</th>\n",
              "      <th>Revenue_Growth</th>\n",
              "      <th>Gross_Profit</th>\n",
              "      <th>Net_Income</th>\n",
              "      <th>Dividend_per_Share</th>\n",
              "      <th>EBITDA</th>\n",
              "      <th>priceSalesRatio</th>\n",
              "      <th>dividendYield</th>\n",
              "      <th>enterpriseValueMultiple</th>\n",
              "      <th>returnOnAssets</th>\n",
              "      <th>returnOnEquity</th>\n",
              "      <th>debtRatio</th>\n",
              "      <th>debtEquityRatio</th>\n",
              "      <th>PE_ratio</th>\n",
              "      <th>EV_to_Sales</th>\n",
              "      <th>Enterprise_Value_over_EBITDA</th>\n",
              "      <th>Graham_Net-Net</th>\n",
              "      <th>EPS_Growth</th>\n",
              "      <th>priceEarningsRatio</th>\n",
              "      <th>priceToFreeCashFlowsRatio</th>\n",
              "      <th>EPS</th>\n",
              "      <th>Gross_Margin</th>\n",
              "      <th>EBITDA_Margin</th>\n",
              "      <th>priceEarningsToGrowthRatio</th>\n",
              "      <th>priceToSalesRatio</th>\n",
              "      <th>Net_Profit_Margin</th>\n",
              "      <th>Sector</th>\n",
              "      <th>2015_PRICE_VAR_[%]</th>\n",
              "      <th>Class</th>\n",
              "      <th>year</th>\n",
              "      <th>2016_PRICE_VAR_[%]</th>\n",
              "      <th>2017_PRICE_VAR_[%]</th>\n",
              "      <th>2018_PRICE_VAR_[%]</th>\n",
              "      <th>2019_PRICE_VAR_[%]</th>\n",
              "      <th>AnualPriceVariation</th>\n",
              "    </tr>\n",
              "  </thead>\n",
              "  <tbody>\n",
              "    <tr>\n",
              "      <th>0</th>\n",
              "      <td>PG</td>\n",
              "      <td>7.440100e+10</td>\n",
              "      <td>-0.0713</td>\n",
              "      <td>3.537100e+10</td>\n",
              "      <td>1.164300e+10</td>\n",
              "      <td>2.448</td>\n",
              "      <td>1.834400e+10</td>\n",
              "      <td>2.434644</td>\n",
              "      <td>0.038153</td>\n",
              "      <td>11.421116</td>\n",
              "      <td>0.5765</td>\n",
              "      <td>0.1664</td>\n",
              "      <td>0.2455</td>\n",
              "      <td>0.5061</td>\n",
              "      <td>18.7566</td>\n",
              "      <td>3.1907</td>\n",
              "      <td>12.9411</td>\n",
              "      <td>-0.2007</td>\n",
              "      <td>0.0371</td>\n",
              "      <td>18.7566</td>\n",
              "      <td>21.0348</td>\n",
              "      <td>4.1900</td>\n",
              "      <td>0.4754</td>\n",
              "      <td>0.2470</td>\n",
              "      <td>15.557842</td>\n",
              "      <td>2.8583</td>\n",
              "      <td>0.1565</td>\n",
              "      <td>Consumer Defensive</td>\n",
              "      <td>-9.323276</td>\n",
              "      <td>0</td>\n",
              "      <td>2014</td>\n",
              "      <td>NaN</td>\n",
              "      <td>NaN</td>\n",
              "      <td>NaN</td>\n",
              "      <td>NaN</td>\n",
              "      <td>-9.323276</td>\n",
              "    </tr>\n",
              "    <tr>\n",
              "      <th>1</th>\n",
              "      <td>VIPS</td>\n",
              "      <td>3.734148e+09</td>\n",
              "      <td>1.1737</td>\n",
              "      <td>9.285226e+08</td>\n",
              "      <td>1.358227e+08</td>\n",
              "      <td>0.000</td>\n",
              "      <td>2.456858e+08</td>\n",
              "      <td>0.095727</td>\n",
              "      <td>-0.000000</td>\n",
              "      <td>7.136538</td>\n",
              "      <td>0.0403</td>\n",
              "      <td>0.3294</td>\n",
              "      <td>0.2274</td>\n",
              "      <td>1.5093</td>\n",
              "      <td>81.5526</td>\n",
              "      <td>NaN</td>\n",
              "      <td>NaN</td>\n",
              "      <td>0.0534</td>\n",
              "      <td>1.4625</td>\n",
              "      <td>81.5526</td>\n",
              "      <td>1.3589</td>\n",
              "      <td>0.2396</td>\n",
              "      <td>0.2487</td>\n",
              "      <td>0.0107</td>\n",
              "      <td>2.631793</td>\n",
              "      <td>0.0443</td>\n",
              "      <td>0.0364</td>\n",
              "      <td>Consumer Defensive</td>\n",
              "      <td>-25.512193</td>\n",
              "      <td>0</td>\n",
              "      <td>2014</td>\n",
              "      <td>NaN</td>\n",
              "      <td>NaN</td>\n",
              "      <td>NaN</td>\n",
              "      <td>NaN</td>\n",
              "      <td>-25.512193</td>\n",
              "    </tr>\n",
              "    <tr>\n",
              "      <th>2</th>\n",
              "      <td>KR</td>\n",
              "      <td>9.837500e+10</td>\n",
              "      <td>0.0182</td>\n",
              "      <td>2.023700e+10</td>\n",
              "      <td>1.519000e+09</td>\n",
              "      <td>0.307</td>\n",
              "      <td>4.416000e+09</td>\n",
              "      <td>0.000000</td>\n",
              "      <td>NaN</td>\n",
              "      <td>2.276721</td>\n",
              "      <td>0.1011</td>\n",
              "      <td>0.2821</td>\n",
              "      <td>0.3863</td>\n",
              "      <td>2.1007</td>\n",
              "      <td>12.0340</td>\n",
              "      <td>0.2967</td>\n",
              "      <td>6.6086</td>\n",
              "      <td>-0.8239</td>\n",
              "      <td>0.0576</td>\n",
              "      <td>12.0340</td>\n",
              "      <td>14.6302</td>\n",
              "      <td>1.4700</td>\n",
              "      <td>0.2057</td>\n",
              "      <td>0.0450</td>\n",
              "      <td>0.000000</td>\n",
              "      <td>0.1858</td>\n",
              "      <td>0.0154</td>\n",
              "      <td>Consumer Defensive</td>\n",
              "      <td>33.118297</td>\n",
              "      <td>1</td>\n",
              "      <td>2014</td>\n",
              "      <td>NaN</td>\n",
              "      <td>NaN</td>\n",
              "      <td>NaN</td>\n",
              "      <td>NaN</td>\n",
              "      <td>33.118297</td>\n",
              "    </tr>\n",
              "    <tr>\n",
              "      <th>3</th>\n",
              "      <td>RAD</td>\n",
              "      <td>2.552641e+10</td>\n",
              "      <td>0.0053</td>\n",
              "      <td>7.323734e+09</td>\n",
              "      <td>2.494140e+08</td>\n",
              "      <td>0.000</td>\n",
              "      <td>1.078550e+09</td>\n",
              "      <td>0.000000</td>\n",
              "      <td>NaN</td>\n",
              "      <td>5.428005</td>\n",
              "      <td>0.0668</td>\n",
              "      <td>-0.1180</td>\n",
              "      <td>0.8290</td>\n",
              "      <td>-2.7237</td>\n",
              "      <td>28.6087</td>\n",
              "      <td>0.4689</td>\n",
              "      <td>11.0987</td>\n",
              "      <td>-0.7506</td>\n",
              "      <td>0.9167</td>\n",
              "      <td>28.6087</td>\n",
              "      <td>17.2736</td>\n",
              "      <td>4.6000</td>\n",
              "      <td>0.2869</td>\n",
              "      <td>0.0420</td>\n",
              "      <td>0.000000</td>\n",
              "      <td>0.2491</td>\n",
              "      <td>0.0098</td>\n",
              "      <td>Consumer Defensive</td>\n",
              "      <td>2.752291</td>\n",
              "      <td>1</td>\n",
              "      <td>2014</td>\n",
              "      <td>NaN</td>\n",
              "      <td>NaN</td>\n",
              "      <td>NaN</td>\n",
              "      <td>NaN</td>\n",
              "      <td>2.752291</td>\n",
              "    </tr>\n",
              "    <tr>\n",
              "      <th>4</th>\n",
              "      <td>GIS</td>\n",
              "      <td>1.790960e+10</td>\n",
              "      <td>0.0076</td>\n",
              "      <td>6.369800e+09</td>\n",
              "      <td>1.824400e+09</td>\n",
              "      <td>1.550</td>\n",
              "      <td>3.595500e+09</td>\n",
              "      <td>1.553911</td>\n",
              "      <td>0.035332</td>\n",
              "      <td>9.767966</td>\n",
              "      <td>0.6265</td>\n",
              "      <td>0.2792</td>\n",
              "      <td>0.3796</td>\n",
              "      <td>1.3445</td>\n",
              "      <td>18.7034</td>\n",
              "      <td>2.3032</td>\n",
              "      <td>11.4723</td>\n",
              "      <td>-0.3229</td>\n",
              "      <td>0.0140</td>\n",
              "      <td>18.7034</td>\n",
              "      <td>17.6902</td>\n",
              "      <td>2.9000</td>\n",
              "      <td>0.3557</td>\n",
              "      <td>0.2010</td>\n",
              "      <td>15.254287</td>\n",
              "      <td>1.8610</td>\n",
              "      <td>0.1019</td>\n",
              "      <td>Consumer Defensive</td>\n",
              "      <td>12.897715</td>\n",
              "      <td>1</td>\n",
              "      <td>2014</td>\n",
              "      <td>NaN</td>\n",
              "      <td>NaN</td>\n",
              "      <td>NaN</td>\n",
              "      <td>NaN</td>\n",
              "      <td>12.897715</td>\n",
              "    </tr>\n",
              "  </tbody>\n",
              "</table>\n",
              "</div>"
            ],
            "text/plain": [
              "  Ticker       Revenue  ...  2019_PRICE_VAR_[%]  AnualPriceVariation\n",
              "0     PG  7.440100e+10  ...                 NaN            -9.323276\n",
              "1   VIPS  3.734148e+09  ...                 NaN           -25.512193\n",
              "2     KR  9.837500e+10  ...                 NaN            33.118297\n",
              "3    RAD  2.552641e+10  ...                 NaN             2.752291\n",
              "4    GIS  1.790960e+10  ...                 NaN            12.897715\n",
              "\n",
              "[5 rows x 36 columns]"
            ]
          },
          "metadata": {
            "tags": []
          },
          "execution_count": 3
        }
      ]
    },
    {
      "cell_type": "code",
      "metadata": {
        "id": "b4d2a023"
      },
      "source": [
        "seleccion_indicadores=['Revenue_Growth',\n",
        "                          'Gross_Profit',\n",
        "                          'priceEarningsRatio',\n",
        "                          'priceToFreeCashFlowsRatio',\n",
        "                          'EPS',\n",
        "                          'Gross_Margin',\n",
        "                          'EBITDA_Margin',                          \n",
        "                          'priceToSalesRatio',\n",
        "                          'Net_Profit_Margin']"
      ],
      "id": "b4d2a023",
      "execution_count": 4,
      "outputs": []
    },
    {
      "cell_type": "code",
      "metadata": {
        "id": "a2dd984b"
      },
      "source": [
        "# Eliminación de valores atípicos\n",
        "def clean_outliers(dataset, column_name):\n",
        "    \"\"\"Returns dataset removing the outlier rows from column @column_name.\"\"\"\n",
        "    interesting_col = dataset[column_name]\n",
        "    # Here we can remove the outliers from both ends, or even add more restrictions.\n",
        "    mask_outlier = ((interesting_col <= (interesting_col.quantile(.98))) & (interesting_col >= (interesting_col.quantile(.01))))\n",
        "        #numpy.abs(interesting_col - interesting_col.mean()) <= (0.02 * interesting_col.std()))\n",
        "    return dataset[mask_outlier]\n"
      ],
      "id": "a2dd984b",
      "execution_count": 5,
      "outputs": []
    },
    {
      "cell_type": "markdown",
      "metadata": {
        "id": "a467f860"
      },
      "source": [
        "La funcion Clean_outliers, filtra los valores situados por encima del perncentil 98% y por debajo del percentil 1% de la variable seleccionada."
      ],
      "id": "a467f860"
    },
    {
      "cell_type": "code",
      "metadata": {
        "id": "bc077437"
      },
      "source": [
        ""
      ],
      "id": "bc077437",
      "execution_count": 5,
      "outputs": []
    },
    {
      "cell_type": "markdown",
      "metadata": {
        "id": "89540ab3"
      },
      "source": [
        "## Indicadores Seleccionados"
      ],
      "id": "89540ab3"
    },
    {
      "cell_type": "markdown",
      "metadata": {
        "id": "930c52d4"
      },
      "source": [
        "### Revenue Growth: \n",
        "es la variacion de las ventas de la compania en un periodo determinado.\n",
        "\n",
        "Revenue Growth = (revenue periodo actual-revenue periodo anterior)/revenue periodo anterior."
      ],
      "id": "930c52d4"
    },
    {
      "cell_type": "code",
      "metadata": {
        "colab": {
          "base_uri": "https://localhost:8080/",
          "height": 301
        },
        "id": "6531b04e",
        "outputId": "d25047cb-3421-45a5-c27c-ed4d8207c9b2"
      },
      "source": [
        "fig, axes = plt.subplots(ncols=2, figsize=(8,4))\n",
        "g = seaborn.histplot(x= df['Revenue_Growth'], bins= 50, ax= axes[0])\n",
        "g = seaborn.boxplot(x= df['Revenue_Growth'], ax= axes[1])\n"
      ],
      "id": "6531b04e",
      "execution_count": 6,
      "outputs": [
        {
          "output_type": "display_data",
          "data": {
            "image/png": "[encoded data removed]",
            "text/plain": [
              "<Figure size 576x288 with 2 Axes>"
            ]
          },
          "metadata": {
            "tags": [],
            "needs_background": "light"
          }
        }
      ]
    },
    {
      "cell_type": "markdown",
      "metadata": {
        "id": "775befc9"
      },
      "source": [
        "Pueden verse algunos valores extremos para este indicador, utilizamos la funcion clean_outliers"
      ],
      "id": "775befc9"
    },
    {
      "cell_type": "code",
      "metadata": {
        "id": "eca28a37"
      },
      "source": [
        "df_1=df.copy()"
      ],
      "id": "eca28a37",
      "execution_count": 7,
      "outputs": []
    },
    {
      "cell_type": "code",
      "metadata": {
        "id": "2d8080cf"
      },
      "source": [
        "df_1=clean_outliers(df_1,seleccion_indicadores[0])"
      ],
      "id": "2d8080cf",
      "execution_count": 8,
      "outputs": []
    },
    {
      "cell_type": "code",
      "metadata": {
        "colab": {
          "base_uri": "https://localhost:8080/",
          "height": 301
        },
        "id": "077032cf",
        "outputId": "ace1d91c-aa5e-41d7-d96d-698ccbb09167"
      },
      "source": [
        "fig, axes = plt.subplots(ncols=2, figsize=(8,4))\n",
        "g = seaborn.histplot(x= df_1['Revenue_Growth'], ax= axes[0])\n",
        "g = seaborn.boxplot(x= df_1['Revenue_Growth'], ax= axes[1])"
      ],
      "id": "077032cf",
      "execution_count": 20,
      "outputs": [
        {
          "output_type": "display_data",
          "data": {
            "image/png": "[encoded data removed]",
            "text/plain": [
              "<Figure size 576x288 with 2 Axes>"
            ]
          },
          "metadata": {
            "tags": [],
            "needs_background": "light"
          }
        }
      ]
    },
    {
      "cell_type": "code",
      "metadata": {
        "colab": {
          "base_uri": "https://localhost:8080/"
        },
        "id": "cf6fece0",
        "outputId": "70d4df0d-3de2-4280-c506-82429ed758e5"
      },
      "source": [
        "df_1[seleccion_indicadores[0]].describe()"
      ],
      "id": "cf6fece0",
      "execution_count": 10,
      "outputs": [
        {
          "output_type": "execute_result",
          "data": {
            "text/plain": [
              "count    19389.000000\n",
              "mean         0.109654\n",
              "std          0.322502\n",
              "min         -0.861700\n",
              "25%         -0.013600\n",
              "50%          0.055800\n",
              "75%          0.172300\n",
              "max          2.369800\n",
              "Name: Revenue_Growth, dtype: float64"
            ]
          },
          "metadata": {
            "tags": []
          },
          "execution_count": 10
        }
      ]
    },
    {
      "cell_type": "code",
      "metadata": {
        "id": "224e149b"
      },
      "source": [
        ""
      ],
      "id": "224e149b",
      "execution_count": 10,
      "outputs": []
    },
    {
      "cell_type": "markdown",
      "metadata": {
        "id": "a61a623f"
      },
      "source": [
        "### Gross Profit \n",
        "(Beneficio Bruto)\n",
        "Es el beneficio de la empresa luego de deducir los costos asociados al producto o servicio.\n",
        "\n",
        "GP= Revenue - COGS\n",
        "\n",
        "COGS: cost of goods sold, incluye solo los costos variables y no los costos fijos.\n",
        "\n",
        "Evalua la eficiencia de la empresa para producir bienes y servicios.\n"
      ],
      "id": "a61a623f"
    },
    {
      "cell_type": "code",
      "metadata": {
        "colab": {
          "base_uri": "https://localhost:8080/",
          "height": 302
        },
        "id": "f506fc9c",
        "outputId": "750002ab-6292-48a2-e0e5-5153103122eb"
      },
      "source": [
        "fig, axes = plt.subplots(ncols=2, figsize=(8,4))\n",
        "g = seaborn.histplot(x= df[seleccion_indicadores[1]], bins= 50, ax= axes[0])\n",
        "g = seaborn.boxplot(x= df[seleccion_indicadores[1]], ax= axes[1])"
      ],
      "id": "f506fc9c",
      "execution_count": 11,
      "outputs": [
        {
          "output_type": "display_data",
          "data": {
            "image/png": "[encoded data removed]",
            "text/plain": [
              "<Figure size 576x288 with 2 Axes>"
            ]
          },
          "metadata": {
            "tags": [],
            "needs_background": "light"
          }
        }
      ]
    },
    {
      "cell_type": "markdown",
      "metadata": {
        "id": "d60c0204"
      },
      "source": [
        "Aplicamos la funcion Clean_Outliers"
      ],
      "id": "d60c0204"
    },
    {
      "cell_type": "code",
      "metadata": {
        "id": "33a17abf"
      },
      "source": [
        "df_1=clean_outliers(df_1,seleccion_indicadores[1])"
      ],
      "id": "33a17abf",
      "execution_count": 12,
      "outputs": []
    },
    {
      "cell_type": "code",
      "metadata": {
        "colab": {
          "base_uri": "https://localhost:8080/",
          "height": 301
        },
        "id": "77a88f77",
        "outputId": "a1205a1a-c058-45d0-f5bd-252466b4658a"
      },
      "source": [
        "fig, axes = plt.subplots(ncols=2, figsize=(8,4))\n",
        "g = seaborn.histplot(x= df_1[seleccion_indicadores[1]].dropna(), ax= axes[0])\n",
        "g = seaborn.boxplot(x= df_1[seleccion_indicadores[1]], ax= axes[1])"
      ],
      "id": "77a88f77",
      "execution_count": 21,
      "outputs": [
        {
          "output_type": "display_data",
          "data": {
            "image/png": "[encoded data removed]",
            "text/plain": [
              "<Figure size 576x288 with 2 Axes>"
            ]
          },
          "metadata": {
            "tags": [],
            "needs_background": "light"
          }
        }
      ]
    },
    {
      "cell_type": "code",
      "metadata": {
        "colab": {
          "base_uri": "https://localhost:8080/"
        },
        "id": "310ac1ee",
        "outputId": "80217414-8cb8-4596-a47d-a9c693cf0251"
      },
      "source": [
        "df_1[seleccion_indicadores[1]].describe()"
      ],
      "id": "310ac1ee",
      "execution_count": 14,
      "outputs": [
        {
          "output_type": "execute_result",
          "data": {
            "text/plain": [
              "count    1.880500e+04\n",
              "mean     1.120868e+09\n",
              "std      2.607238e+09\n",
              "min     -1.349440e+06\n",
              "25%      3.820700e+07\n",
              "50%      2.106400e+08\n",
              "75%      8.610000e+08\n",
              "max      2.057000e+10\n",
              "Name: Gross_Profit, dtype: float64"
            ]
          },
          "metadata": {
            "tags": []
          },
          "execution_count": 14
        }
      ]
    },
    {
      "cell_type": "code",
      "metadata": {
        "id": "245798ae"
      },
      "source": [
        "#df_1[(df_1[seleccion_indicadores[1]] >= -2.5e-6)&(df_1[seleccion_indicadores[1]] <= 2.5e6)]"
      ],
      "id": "245798ae",
      "execution_count": 15,
      "outputs": []
    },
    {
      "cell_type": "markdown",
      "metadata": {
        "id": "7653ffdc"
      },
      "source": [
        "plt.figure(figsize=(15,6))\n",
        "seaborn.barplot(data=df_1[[seleccion_indicadores[1],\n",
        "                           'Sector']],\n",
        "                y=df_1[seleccion_indicadores[1]],\n",
        "                x=df_1['Sector'])\n",
        "plt.xticks(rotation=30)"
      ],
      "id": "7653ffdc"
    },
    {
      "cell_type": "markdown",
      "metadata": {
        "id": "a45784c2"
      },
      "source": [
        "### Price to Earnings Ratio"
      ],
      "id": "a45784c2"
    },
    {
      "cell_type": "markdown",
      "metadata": {
        "id": "e1691086"
      },
      "source": [
        "The price-earnings ratio (P/E ratio) relates a company's share price to its earnings per share.\n",
        "A high P/E ratio could mean that a company's stock is over-valued, or else that investors are expecting high growth rates in the future.\n",
        "Companies that have no earnings or that are losing money do not have a P/E ratio since there is nothing to put in the denominator.\n",
        "Two kinds of P/E ratios - forward and trailing P/E - are used in practice.\n",
        "P/E Ratio= Market value per share /Earnings per share"
      ],
      "id": "e1691086"
    },
    {
      "cell_type": "code",
      "metadata": {
        "colab": {
          "base_uri": "https://localhost:8080/",
          "height": 301
        },
        "id": "727a036d",
        "outputId": "78e0f3cc-6ff8-4629-aaaa-75b1f492e352"
      },
      "source": [
        "fig, axes = plt.subplots(ncols=2, figsize=(8,4))\n",
        "g = seaborn.histplot(x= df[seleccion_indicadores[2]], bins= 50, ax= axes[0])\n",
        "g = seaborn.boxplot(x= df[seleccion_indicadores[2]], ax= axes[1])"
      ],
      "id": "727a036d",
      "execution_count": 16,
      "outputs": [
        {
          "output_type": "display_data",
          "data": {
            "image/png": "[encoded data removed]",
            "text/plain": [
              "<Figure size 576x288 with 2 Axes>"
            ]
          },
          "metadata": {
            "tags": [],
            "needs_background": "light"
          }
        }
      ]
    },
    {
      "cell_type": "code",
      "metadata": {
        "id": "7af4a3e2"
      },
      "source": [
        "df_1=clean_outliers(df_1,seleccion_indicadores[2])"
      ],
      "id": "7af4a3e2",
      "execution_count": 17,
      "outputs": []
    },
    {
      "cell_type": "code",
      "metadata": {
        "colab": {
          "base_uri": "https://localhost:8080/",
          "height": 301
        },
        "id": "7f555404",
        "outputId": "1b945738-d726-4ce5-c6ad-fd2a6997ae3b"
      },
      "source": [
        "fig, axes = plt.subplots(ncols=2, figsize=(8,4))\n",
        "g = seaborn.histplot(x= df_1[seleccion_indicadores[2]], ax= axes[0])\n",
        "g = seaborn.boxplot(x= df_1[seleccion_indicadores[2]], ax= axes[1])"
      ],
      "id": "7f555404",
      "execution_count": 18,
      "outputs": [
        {
          "output_type": "display_data",
          "data": {
            "image/png": "[encoded data removed]",
            "text/plain": [
              "<Figure size 576x288 with 2 Axes>"
            ]
          },
          "metadata": {
            "tags": [],
            "needs_background": "light"
          }
        }
      ]
    },
    {
      "cell_type": "code",
      "metadata": {
        "colab": {
          "base_uri": "https://localhost:8080/"
        },
        "id": "b212ae52",
        "outputId": "6c34089c-4b9d-4f90-db58-9786d338c16c"
      },
      "source": [
        "df_1[seleccion_indicadores[2]].describe()"
      ],
      "id": "b212ae52",
      "execution_count": 19,
      "outputs": [
        {
          "output_type": "execute_result",
          "data": {
            "text/plain": [
              "count    18131.000000\n",
              "mean        17.120813\n",
              "std         21.913945\n",
              "min          0.000000\n",
              "25%          0.000000\n",
              "50%         13.203700\n",
              "75%         23.043950\n",
              "max        160.285700\n",
              "Name: priceEarningsRatio, dtype: float64"
            ]
          },
          "metadata": {
            "tags": []
          },
          "execution_count": 19
        }
      ]
    },
    {
      "cell_type": "code",
      "metadata": {
        "id": "cafae5a8"
      },
      "source": [
        ""
      ],
      "id": "cafae5a8",
      "execution_count": 19,
      "outputs": []
    }
  ]
}